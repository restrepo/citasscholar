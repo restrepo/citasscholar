{
 "cells": [
  {
   "cell_type": "markdown",
   "metadata": {},
   "source": [
    "# Basado en los métodos del artículo:\n",
    "\n",
    "[Evidence of Open Access of scientific publications in Google Scholar: a large-scale analysis](https://osf.io/preprints/socarxiv/k54uv/) (pag. 12 al final)\n",
    "\n",
    "Un ejemplo con todos los campos está dado por [éste link](https://scholar.google.co.in/scholar_lookup?title=Estimates+for+the+number+of+sums+and+products+and+for+exponential+sums+in+fields+of+prime+order&author=Jean+Bourgain&author=AA+Glibichuk&author=SERGEI+VLADIMIROVICH+Konyagin&year=2006&doi=10.1112/S0024610706022721&publisher=Oxford+University+Press&journal=Journal+of+the+London+Mathematical+Society&volume=73&issue=2&pages=380-398&hl=en)\n"
   ]
  },
  {
   "cell_type": "code",
   "execution_count": 1,
   "metadata": {
    "collapsed": true
   },
   "outputs": [],
   "source": [
    "import re \n",
    "import requests\n",
    "headers_Get = {\n",
    "        'User-Agent': 'Mozilla/5.0 (Windows NT 6.1; WOW64; rv:49.0) Gecko/20100101 Firefox/49.0',\n",
    "        'Accept': 'text/html,application/xhtml+xml,application/xml;q=0.9,*/*;q=0.8',\n",
    "        'Accept-Language': 'en-US,en;q=0.5',\n",
    "        'Accept-Encoding': 'gzip, deflate',\n",
    "        'DNT': '1',\n",
    "        'Connection': 'keep-alive',\n",
    "        'Upgrade-Insecure-Requests': '1'\n",
    "    }\n",
    "def googlescholar(titulo='La formación de ciudadanías en contextos conflictivos',\n",
    "                 autor='didier alvarez zapata'):\n",
    "    gsr={}\n",
    "\n",
    "    s = requests.Session()\n",
    "\n",
    "\n",
    "    r=s.get('https://scholar.google.com/scholar?as_q=&as_epq=\"{}\"&as_occt=title&as_sauthors=\"{}\"'.format(titulo, autor)\n",
    "            ,headers=headers_Get)\n",
    "\n",
    "    # interpretar HTML\n",
    "    from bs4 import BeautifulSoup\n",
    "    res=BeautifulSoup(r.text,\"html.parser\")\n",
    "\n",
    "    # bloque de articulo\n",
    "    fr=res.find_all('div',{'class':'gs_r gs_or gs_scl'})[1]\n",
    "\n",
    "\n",
    "    gsa=fr.find('div', {'class':\"gs_a\"})\n",
    "\n",
    "    gsr['autores']=gsa.text.split('\\xa0-')[0]\n",
    "\n",
    "    gst=fr.find('h3',{'class':'gs_rt'})\n",
    "\n",
    "    gsr['titulo']=gst.find_all('a')[0].text\n",
    "\n",
    "    gsc=fr.find_all('div',{'class':'gs_fl'})[1]\n",
    "\n",
    "\n",
    "    gscc=gsc.find_all('a', {\"href\":re.compile('/scholar\\?cites.*')})\n",
    "\n",
    "    gsr['citas']=gscc[0].text.split('by ')[-1]\n",
    "    return gsr"
   ]
  },
  {
   "cell_type": "code",
   "execution_count": 4,
   "metadata": {},
   "outputs": [
    {
     "data": {
      "text/plain": [
       "{'autores': 'D Álvarez Zapata, D Hurtado Galeano - 2006 - iep.udea.edu.co',\n",
       " 'citas': '2',\n",
       " 'titulo': 'La formación de ciudadanías en contextos conflictivos'}"
      ]
     },
     "execution_count": 4,
     "metadata": {},
     "output_type": "execute_result"
    }
   ],
   "source": [
    "googlescholar(titulo='La formación de ciudadanías en contextos conflictivos',\n",
    "                 autor='didier alvarez zapata')"
   ]
  },
  {
   "cell_type": "markdown",
   "metadata": {},
   "source": [
    "# Temporal"
   ]
  },
  {
   "cell_type": "markdown",
   "metadata": {},
   "source": [
    "## Sumar cadena de caracteres"
   ]
  },
  {
   "cell_type": "code",
   "execution_count": 4,
   "metadata": {
    "collapsed": true
   },
   "outputs": [],
   "source": [
    "url='https://scholar.google.com/cholar_lookup?'\n",
    "title='title={}'.format('texto titulo').replace(' ','+')"
   ]
  },
  {
   "cell_type": "code",
   "execution_count": 5,
   "metadata": {},
   "outputs": [
    {
     "data": {
      "text/plain": [
       "'https://scholar.google.com/cholar_lookup?'"
      ]
     },
     "execution_count": 5,
     "metadata": {},
     "output_type": "execute_result"
    }
   ],
   "source": [
    "url"
   ]
  },
  {
   "cell_type": "code",
   "execution_count": 6,
   "metadata": {},
   "outputs": [
    {
     "data": {
      "text/plain": [
       "'title=texto+titulo'"
      ]
     },
     "execution_count": 6,
     "metadata": {},
     "output_type": "execute_result"
    }
   ],
   "source": [
    "title"
   ]
  },
  {
   "cell_type": "code",
   "execution_count": 8,
   "metadata": {},
   "outputs": [
    {
     "data": {
      "text/plain": [
       "'https://scholar.google.com/cholar_lookup?title=texto+titulo'"
      ]
     },
     "execution_count": 8,
     "metadata": {},
     "output_type": "execute_result"
    }
   ],
   "source": [
    "url+title"
   ]
  },
  {
   "cell_type": "markdown",
   "metadata": {},
   "source": [
    "## Manipular diccionarios"
   ]
  },
  {
   "cell_type": "code",
   "execution_count": 26,
   "metadata": {
    "collapsed": true
   },
   "outputs": [],
   "source": [
    "d={'a': 'C', 'b': '','c':'F'}"
   ]
  },
  {
   "cell_type": "code",
   "execution_count": 27,
   "metadata": {},
   "outputs": [
    {
     "data": {
      "text/plain": [
       "dict_keys(['c', 'a', 'b'])"
      ]
     },
     "execution_count": 27,
     "metadata": {},
     "output_type": "execute_result"
    }
   ],
   "source": [
    "d.keys()"
   ]
  },
  {
   "cell_type": "code",
   "execution_count": 28,
   "metadata": {},
   "outputs": [
    {
     "data": {
      "text/plain": [
       "dict_values(['F', 'C', ''])"
      ]
     },
     "execution_count": 28,
     "metadata": {},
     "output_type": "execute_result"
    }
   ],
   "source": [
    "d.values()"
   ]
  },
  {
   "cell_type": "markdown",
   "metadata": {},
   "source": [
    "Iteración sobre claves"
   ]
  },
  {
   "cell_type": "code",
   "execution_count": 30,
   "metadata": {},
   "outputs": [
    {
     "name": "stdout",
     "output_type": "stream",
     "text": [
      "FC\n"
     ]
    }
   ],
   "source": [
    "values=''\n",
    "for k in d.keys():\n",
    "    if d[k]!='':\n",
    "        values=values+d[k]\n",
    "        \n",
    "print(values)"
   ]
  },
  {
   "cell_type": "markdown",
   "metadata": {},
   "source": [
    "## Capture argumentos de función en un diccionario"
   ]
  },
  {
   "cell_type": "code",
   "execution_count": 33,
   "metadata": {
    "collapsed": true
   },
   "outputs": [],
   "source": [
    "def fun(a='',b=''):\n",
    "    d=locals()\n",
    "    print(d)"
   ]
  },
  {
   "cell_type": "code",
   "execution_count": 34,
   "metadata": {},
   "outputs": [
    {
     "name": "stdout",
     "output_type": "stream",
     "text": [
      "{'a': 'C', 'b': ''}\n"
     ]
    }
   ],
   "source": [
    "fun(a='C',b='')"
   ]
  }
 ],
 "metadata": {
  "kernelspec": {
   "display_name": "Python 3",
   "language": "python",
   "name": "python3"
  },
  "language_info": {
   "codemirror_mode": {
    "name": "ipython",
    "version": 3
   },
   "file_extension": ".py",
   "mimetype": "text/x-python",
   "name": "python",
   "nbconvert_exporter": "python",
   "pygments_lexer": "ipython3",
   "version": "3.4.2"
  },
  "toc": {
   "colors": {
    "hover_highlight": "#DAA520",
    "running_highlight": "#FF0000",
    "selected_highlight": "#FFD700"
   },
   "moveMenuLeft": true,
   "nav_menu": {
    "height": "117px",
    "width": "252px"
   },
   "navigate_menu": true,
   "number_sections": true,
   "sideBar": true,
   "threshold": 4,
   "toc_cell": false,
   "toc_section_display": "block",
   "toc_window_display": false
  }
 },
 "nbformat": 4,
 "nbformat_minor": 2
}
