{
 "cells": [
  {
   "cell_type": "code",
   "execution_count": 1,
   "metadata": {},
   "outputs": [],
   "source": [
    "import re \n",
    "import requests\n",
    "headers_Get = {\n",
    "        'User-Agent': 'Mozilla/5.0 (Windows NT 6.1; WOW64; rv:49.0) Gecko/20100101 Firefox/49.0',\n",
    "        'Accept': 'text/html,application/xhtml+xml,application/xml;q=0.9,*/*;q=0.8',\n",
    "        'Accept-Language': 'en-US,en;q=0.5',\n",
    "        'Accept-Encoding': 'gzip, deflate',\n",
    "        'DNT': '1',\n",
    "        'Connection': 'keep-alive',\n",
    "        'Upgrade-Insecure-Requests': '1'\n",
    "}"
   ]
  },
  {
   "cell_type": "code",
   "execution_count": 2,
   "metadata": {},
   "outputs": [],
   "source": [
    "from IPython.display import HTML \n",
    "import Levenshtein as lv\n",
    "import unidecode\n",
    "from bs4 import BeautifulSoup"
   ]
  },
  {
   "cell_type": "code",
   "execution_count": 86,
   "metadata": {},
   "outputs": [],
   "source": [
    "#Calidad\n",
    "def quality (gsr, title, author, journal, publisher, rq=2):\n",
    "    '''\n",
    "    Añade parametros de calidad al diccionario gsr\n",
    "    \n",
    "    rq=N: redondea a el número de cifras N\n",
    "    '''\n",
    "    \n",
    "    #title quality\n",
    "    if title:\n",
    "        qt=lv.ratio(unidecode.unidecode(title).lower(),\n",
    "                    unidecode.unidecode(gsr['title']).lower())\n",
    "        gsr['title_quality']=round(qt,rq)\n",
    "    else:\n",
    "        gsr['title_quality']=-1#None\n",
    "        \n",
    "    # authors quality \n",
    "    authors=author+', '+', '.join(coauthors)\n",
    "    authors\n",
    "    if author:\n",
    "        qa=lv.ratio(unidecode.unidecode(author).lower(),\n",
    "                    unidecode.unidecode(gsr['authors']).lower())\n",
    "        gsr['authors_quality']=round(qa,rq)\n",
    "    else:\n",
    "        gsr['authors_quality']=-1 \n",
    "    # journal quality \n",
    "    if journal:\n",
    "        qj=lv.ratio(unidecode.unidecode(journal).lower(),\n",
    "                    unidecode.unidecode(gsr['journal']).lower())\n",
    "        gsr['journal_quality']=round(qj,rq)\n",
    "    else:\n",
    "        gsr['journal_quality']=-1\n",
    "    #publisher quality\n",
    "    if publisher:\n",
    "        qp=lv.ratio(unidecode.unidecode(publisher).lower(),\n",
    "                    unidecode.unidecode(gsr['publisher']).lower())\n",
    "        gsr['publisher_quality']=round(qp,rq)\n",
    "    else:\n",
    "        gsr['publisher_quality']=-1\n",
    "        \n",
    "    return gsr\n",
    "\n",
    "# Implementar aquí\n",
    "def getmetadatos(r):\n",
    "    from bs4 import BeautifulSoup\n",
    "    import sys\n",
    "    res=BeautifulSoup(r.text,\"html.parser\")\n",
    "    \n",
    "    # Check robots detection\n",
    "    if res.find('div',{'class':\"g-recaptcha\"}):\n",
    "        sys.exit('ERROR: reCAPTCHA activied')\n",
    "\n",
    "    gsr={}\n",
    "    try:\n",
    "        fr=res.find_all('div',{'class':'gs_r gs_or gs_scl'})[0]\n",
    "    except IndexError:\n",
    "        fr=BeautifulSoup('',\"html.parser\")\n",
    "        \n",
    "    #para autor  \n",
    "    gsa=fr.find('div', {'class':'gs_a'}) \n",
    "    if gsa:\n",
    "        gsr['authors']=gsa.text.split('\\xa0-')[0]\n",
    "    else:\n",
    "        gsr['authors']=''    \n",
    "            \n",
    "            \n",
    "    #para título    \n",
    "    gst=fr.find('h3',{'class':'gs_rt'})\n",
    "    if gst:\n",
    "        gsr['title']=gst.find_all('a')[0].text\n",
    "    else:\n",
    "        gsr['title']=''\n",
    "\n",
    "        \n",
    "    #para link de citas \n",
    "    try:\n",
    "        gsc=fr.find_all('div',{'class':'gs_fl'})[1]\n",
    "    except IndexError:\n",
    "        gsc=''\n",
    "\n",
    "    if gsc:\n",
    "        try:\n",
    "            gscc=gsc.find_all('a', {'href':re.compile('/scholar\\?cites=')})[0]\n",
    "        except IndexError:\n",
    "            gscc=''\n",
    "        try:\n",
    "            gsr['cites']=int( gscc.text.split()[-1] )\n",
    "        except IndexError:\n",
    "            gsr['cites']=0\n",
    "        gsr['cites_link']=gscc.attrs.get('href')\n",
    "    else:\n",
    "        gsr['cites']=''\n",
    "    \n",
    "    #para link pdf\n",
    "    try:\n",
    "        gsp=fr.find_all('div',{'class':'gs_or_ggsm'})[0]\n",
    "    except IndexError:\n",
    "        gsp=''\n",
    "    if gsp:\n",
    "        gspd=gsp.find('a').get('href') # ['href'] pude generar error\n",
    "        gsr['pdf']=gspd\n",
    "    else:\n",
    "        gsr['pdf']=''\n",
    "        \n",
    "    #Year\n",
    "    gsy=fr.find('div', {'class':'gs_a'})\n",
    "    if gsy:\n",
    "        gsr['year']=gsy.text.split('-')[-2].strip().split(',')[-1]\n",
    "        gsr['year']=eval('year')\n",
    "    else:\n",
    "        gsr['year']=''\n",
    "    \n",
    "    #Journal \n",
    "    gsj=fr.find('div', {'class':'gs_a'})\n",
    "    if gsj:\n",
    "        gsr['journal']=gsj.text.split('-')[-2].strip().split(',')[-2].replace('arXiv\\xa0…','').strip()\n",
    "    else:\n",
    "        gsr['journal']=''\n",
    "\n",
    "\n",
    "    #publisher\n",
    "    gsj=fr.find('div', {'class':'gs_a'})\n",
    "    if gsj:\n",
    "        gsr['publisher']=gsj.text.split('-')[-1].strip()\n",
    "    else:\n",
    "        gsr['publisher']=''\n",
    "\n",
    "\n",
    "    #google scholar profile en: https://scholar.google.com/citations?hl=en&user=HERE\n",
    "    try:\n",
    "        gpa=fr.find_all('div',{'class':'gs_a'})[0]\n",
    "    except IndexError:\n",
    "        gpa=''\n",
    "    if gpa:\n",
    "        prf={}\n",
    "        for pr in gpa.find_all('a'):\n",
    "            key=pr.text\n",
    "            value=pr.get('href').split('=')[1].split('&')[0]\n",
    "            prf[key]=value\n",
    "        gsr['profiles']=prf \n",
    "        \n",
    "    #abstract\n",
    "    try:\n",
    "        gsab=fr.find_all('div',{'class':'gs_rs'})[0]\n",
    "    except IndexError:\n",
    "        gsab=''\n",
    "    if gsab:\n",
    "        gsr['abstract']=gsab.text.replace('\\xa0…','')\n",
    "\n",
    "    return gsr\n",
    "             \n",
    "       \n",
    "def googlescholar(title='', author='', coauthors=[], doi='', year=0, publisher='',\n",
    "                  journal='', volume='', issue='', pages=0, DEBUG=False):\n",
    "    '''\n",
    "    DEBUG: return full web page\n",
    "    '''\n",
    "    import sys\n",
    "    gsr={}\n",
    "    \n",
    "    s = requests.Session()\n",
    "    url='https://scholar.google.co.in/scholar_lookup?'\n",
    "    \n",
    "    nl=0\n",
    "    if title:\n",
    "        nl=nl+1\n",
    "        url= url+'title={}'.format(title.replace(' ','+'))     \n",
    "    if author:\n",
    "        if nl: url= url+'&'\n",
    "        nl=nl+1\n",
    "        url= url+'author={}'.format(author.replace(' ','+'))\n",
    "    if doi:\n",
    "        if nl: url= url+'&'\n",
    "        nl=nl+1    \n",
    "        url= url+'doi={}'.format(doi)\n",
    "    if year:\n",
    "        if nl: url= url+'&'\n",
    "        nl=nl+1\n",
    "        url= url+'year={}'.format(year)\n",
    "    if publisher:\n",
    "        if nl: url= url+'&'\n",
    "        nl=nl+1\n",
    "        url= url+'publisher={}'.format(publisher.replace(' ','+'))\n",
    "    if journal:\n",
    "        if nl: url= url+'&'\n",
    "        nl=nl+1     \n",
    "        url= url+'journal={}'.format(journal.replace(' ','+'))\n",
    "    if volume:\n",
    "        if nl: url= url+'&'\n",
    "        nl=nl+1\n",
    "        url= url+'volume={}'.format(volume)\n",
    "    if issue:\n",
    "        if nl: url= url+'&'\n",
    "        nl=nl+1\n",
    "        url= url+'issue={}'.format(issue)   \n",
    "    if pages:\n",
    "        if nl: url= url+'&'\n",
    "        nl=nl+1\n",
    "        url= url+'pages={}'.format(pages)\n",
    "    if coauthors:\n",
    "        for i in coauthors :\n",
    "            if nl: url= url+'&'\n",
    "            nl=nl+1\n",
    "            url= url+'author={}'.format(i.replace(' ','+'))        \n",
    "            \n",
    "    r=s.get(url,headers=headers_Get)\n",
    "    #print(url)\n",
    "          \n",
    "    gsr=getmetadatos(r)\n",
    "    \n",
    "    #análizar calidad\n",
    "    gsr=quality (gsr, title, author, journal, publisher, rq=2)\n",
    "    \n",
    "    return gsr,url\n"
   ]
  },
  {
   "cell_type": "code",
   "execution_count": 87,
   "metadata": {},
   "outputs": [],
   "source": [
    "gsr,url=googlescholar(doi='10.4067/S0034-98872007000700016',\n",
    "                      title='Analysis of electronic references in a volume of Revista Médica de Chile', \n",
    "                      author='',\n",
    "                      coauthors=[],\n",
    "                      year=0,\n",
    "                      publisher='',\n",
    "                      journal='',\n",
    "                      volume='',\n",
    "                      issue='',\n",
    "                      pages='' \n",
    "                     )"
   ]
  },
  {
   "cell_type": "code",
   "execution_count": 88,
   "metadata": {},
   "outputs": [
    {
     "data": {
      "text/plain": [
       "'https://scholar.google.co.in/scholar_lookup?title=Analysis+of+electronic+references+in+a+volume+of+Revista+Médica+de+Chile&doi=10.4067/S0034-98872007000700016'"
      ]
     },
     "execution_count": 88,
     "metadata": {},
     "output_type": "execute_result"
    }
   ],
   "source": [
    "url"
   ]
  },
  {
   "cell_type": "code",
   "execution_count": 89,
   "metadata": {},
   "outputs": [
    {
     "data": {
      "text/plain": [
       "{'authors': '',\n",
       " 'authors_quality': -1,\n",
       " 'cites': '',\n",
       " 'journal': '',\n",
       " 'journal_quality': -1,\n",
       " 'pdf': '',\n",
       " 'publisher': '',\n",
       " 'publisher_quality': -1,\n",
       " 'title': '',\n",
       " 'title_quality': 0.0,\n",
       " 'year': ''}"
      ]
     },
     "execution_count": 89,
     "metadata": {},
     "output_type": "execute_result"
    }
   ],
   "source": [
    "gsr"
   ]
  },
  {
   "cell_type": "code",
   "execution_count": 82,
   "metadata": {},
   "outputs": [],
   "source": [
    "if gscc.text: print(1)"
   ]
  },
  {
   "cell_type": "markdown",
   "metadata": {},
   "source": [
    "# Generar un dataframe de resultados\n",
    "A partir de una lista con DOIs y títulos (una cada 2 segundos)"
   ]
  },
  {
   "cell_type": "code",
   "execution_count": 40,
   "metadata": {},
   "outputs": [],
   "source": [
    "import time \n",
    "import pandas as pd"
   ]
  },
  {
   "cell_type": "code",
   "execution_count": 41,
   "metadata": {},
   "outputs": [],
   "source": [
    "lista={'DOI': ['10.4185/RLCS-66-2011-926-101-129', \n",
    "               '10.4067/S0718-09342008000200012', \n",
    "               '10.4067/S0718-40262013000500003', \n",
    "               '10.4067/S0034-98872007000700016', \n",
    "               '10.1371/journal.pntd.0004045'], \n",
    "        'Título': ['La investigación sobre Comunicación en España (1998-2007). Análisis de los artículos publicados en revistas científicas', \n",
    "                   'Interpretaciones de la atenuación en artículos de revisión de Odontología',\n",
    "                   'Productividad y calidad metodológica de artículos clínicos en cirugía oral y maxilofacial en Chile: Período 2001-2012',\n",
    "                   'Analysis of electronic references in a volume of Revista Médica de Chile',\n",
    "                   'Human Genetic Ancestral Composition Correlates with the Origin of Mycobacterium leprae Strains in a Leprosy Endemic Population.']}\n",
    "d=pd.DataFrame(lista)"
   ]
  },
  {
   "cell_type": "code",
   "execution_count": 42,
   "metadata": {},
   "outputs": [
    {
     "data": {
      "text/html": [
       "<div>\n",
       "<style scoped>\n",
       "    .dataframe tbody tr th:only-of-type {\n",
       "        vertical-align: middle;\n",
       "    }\n",
       "\n",
       "    .dataframe tbody tr th {\n",
       "        vertical-align: top;\n",
       "    }\n",
       "\n",
       "    .dataframe thead th {\n",
       "        text-align: right;\n",
       "    }\n",
       "</style>\n",
       "<table border=\"1\" class=\"dataframe\">\n",
       "  <thead>\n",
       "    <tr style=\"text-align: right;\">\n",
       "      <th></th>\n",
       "      <th>DOI</th>\n",
       "      <th>Título</th>\n",
       "    </tr>\n",
       "  </thead>\n",
       "  <tbody>\n",
       "    <tr>\n",
       "      <th>0</th>\n",
       "      <td>10.4185/RLCS-66-2011-926-101-129</td>\n",
       "      <td>La investigación sobre Comunicación en España ...</td>\n",
       "    </tr>\n",
       "    <tr>\n",
       "      <th>1</th>\n",
       "      <td>10.4067/S0718-09342008000200012</td>\n",
       "      <td>Interpretaciones de la atenuación en artículos...</td>\n",
       "    </tr>\n",
       "    <tr>\n",
       "      <th>2</th>\n",
       "      <td>10.4067/S0718-40262013000500003</td>\n",
       "      <td>Productividad y calidad metodológica de artícu...</td>\n",
       "    </tr>\n",
       "    <tr>\n",
       "      <th>3</th>\n",
       "      <td>10.4067/S0034-98872007000700016</td>\n",
       "      <td>Analysis of electronic references in a volume ...</td>\n",
       "    </tr>\n",
       "    <tr>\n",
       "      <th>4</th>\n",
       "      <td>10.1371/journal.pntd.0004045</td>\n",
       "      <td>Human Genetic Ancestral Composition Correlates...</td>\n",
       "    </tr>\n",
       "  </tbody>\n",
       "</table>\n",
       "</div>"
      ],
      "text/plain": [
       "                                DOI  \\\n",
       "0  10.4185/RLCS-66-2011-926-101-129   \n",
       "1   10.4067/S0718-09342008000200012   \n",
       "2   10.4067/S0718-40262013000500003   \n",
       "3   10.4067/S0034-98872007000700016   \n",
       "4      10.1371/journal.pntd.0004045   \n",
       "\n",
       "                                              Título  \n",
       "0  La investigación sobre Comunicación en España ...  \n",
       "1  Interpretaciones de la atenuación en artículos...  \n",
       "2  Productividad y calidad metodológica de artícu...  \n",
       "3  Analysis of electronic references in a volume ...  \n",
       "4  Human Genetic Ancestral Composition Correlates...  "
      ]
     },
     "execution_count": 42,
     "metadata": {},
     "output_type": "execute_result"
    }
   ],
   "source": [
    "d"
   ]
  },
  {
   "cell_type": "code",
   "execution_count": 48,
   "metadata": {},
   "outputs": [
    {
     "data": {
      "text/plain": [
       "RangeIndex(start=2, stop=4, step=1)"
      ]
     },
     "execution_count": 48,
     "metadata": {},
     "output_type": "execute_result"
    }
   ],
   "source": [
    "d.index[2:4]"
   ]
  },
  {
   "cell_type": "code",
   "execution_count": 90,
   "metadata": {
    "scrolled": true
   },
   "outputs": [
    {
     "name": "stdout",
     "output_type": "stream",
     "text": [
      "2\n",
      "3\n",
      "4\n"
     ]
    }
   ],
   "source": [
    "df=pd.DataFrame()\n",
    "tiempo=20\n",
    "ini=2\n",
    "for i in d.index[ini:]:\n",
    "    doi=d.loc[i,'DOI']\n",
    "    title=d.loc[i,'Título']  \n",
    "    \n",
    "    gsr,url=googlescholar(doi=doi,title=title,author=author,coauthors=coauthors,year=year,publisher=publisher,journal=journal)    \n",
    "    \n",
    "    print (i)\n",
    "    #TU codigo\n",
    "    #gsr=....\n",
    "    #Añanadir a gsr los datos de DOI, Título (opcional) a gsr \n",
    "    #Actualizar dataframe\n",
    "    #salvar el datframe\n",
    "    time.sleep(tiempo)"
   ]
  },
  {
   "cell_type": "code",
   "execution_count": 52,
   "metadata": {},
   "outputs": [
    {
     "data": {
      "text/plain": [
       "('Analysis of electronic references in a volume of Revista Médica de Chile',\n",
       " '10.4067/S0034-98872007000700016')"
      ]
     },
     "execution_count": 52,
     "metadata": {},
     "output_type": "execute_result"
    }
   ],
   "source": [
    "i=3\n",
    "d.loc[i,'Título']  ,d.loc[i,'DOI']"
   ]
  },
  {
   "cell_type": "code",
   "execution_count": null,
   "metadata": {},
   "outputs": [],
   "source": [
    "df=pd.DataFrame()\n",
    "\n",
    "for i in d.index:\n",
    "    doi=d.loc[i,'DOI']\n",
    "    title=d.loc[i,'Título']  \n",
    "    \n",
    "    gsr,url=googlescholar(doi=doi,title=title,author=author,coauthors=coauthors,year=year,publisher=publisher,journal=journal)    \n",
    "    \n",
    "    print (gsr)\n",
    "    #TU codigo\n",
    "    #gsr=....\n",
    "    #Añanadir a gsr los datos de DOI, Título (opcional) a gsr \n",
    "    #Actualizar dataframe\n",
    "    #salvar el datframe\n",
    "    time.sleep(2)"
   ]
  },
  {
   "cell_type": "code",
   "execution_count": 22,
   "metadata": {},
   "outputs": [],
   "source": [
    "lista={'DOI': ['10.4185/RLCS-66-2011-926-101-129', \n",
    "               '10.4067/S0718-09342008000200012'], \n",
    "        'Título': ['La investigación sobre Comunicación en España (1998-2007). Análisis de los artículos publicados en revistas científicas', \n",
    "                   'Interpretaciones de la atenuación en artículos de revisión de Odontología']}\n",
    "d=pd.DataFrame(lista)"
   ]
  },
  {
   "cell_type": "code",
   "execution_count": 164,
   "metadata": {},
   "outputs": [
    {
     "data": {
      "text/html": [
       "<div>\n",
       "<style scoped>\n",
       "    .dataframe tbody tr th:only-of-type {\n",
       "        vertical-align: middle;\n",
       "    }\n",
       "\n",
       "    .dataframe tbody tr th {\n",
       "        vertical-align: top;\n",
       "    }\n",
       "\n",
       "    .dataframe thead th {\n",
       "        text-align: right;\n",
       "    }\n",
       "</style>\n",
       "<table border=\"1\" class=\"dataframe\">\n",
       "  <thead>\n",
       "    <tr style=\"text-align: right;\">\n",
       "      <th></th>\n",
       "      <th>DOI</th>\n",
       "      <th>Título</th>\n",
       "    </tr>\n",
       "  </thead>\n",
       "  <tbody>\n",
       "    <tr>\n",
       "      <th>0</th>\n",
       "      <td>10.4185/RLCS-66-2011-926-101-129</td>\n",
       "      <td>La investigación sobre Comunicación en España ...</td>\n",
       "    </tr>\n",
       "    <tr>\n",
       "      <th>1</th>\n",
       "      <td>10.4067/S0718-09342008000200012</td>\n",
       "      <td>Interpretaciones de la atenuación en artículos...</td>\n",
       "    </tr>\n",
       "  </tbody>\n",
       "</table>\n",
       "</div>"
      ],
      "text/plain": [
       "                                DOI  \\\n",
       "0  10.4185/RLCS-66-2011-926-101-129   \n",
       "1   10.4067/S0718-09342008000200012   \n",
       "\n",
       "                                              Título  \n",
       "0  La investigación sobre Comunicación en España ...  \n",
       "1  Interpretaciones de la atenuación en artículos...  "
      ]
     },
     "execution_count": 164,
     "metadata": {},
     "output_type": "execute_result"
    }
   ],
   "source": [
    "d"
   ]
  },
  {
   "cell_type": "code",
   "execution_count": 165,
   "metadata": {},
   "outputs": [
    {
     "ename": "IndexError",
     "evalue": "list index out of range",
     "output_type": "error",
     "traceback": [
      "\u001b[0;31m---------------------------------------------------------------------------\u001b[0m",
      "\u001b[0;31mIndexError\u001b[0m                                Traceback (most recent call last)",
      "\u001b[0;32m<ipython-input-165-a2c37cc2ffdf>\u001b[0m in \u001b[0;36m<module>\u001b[0;34m()\u001b[0m\n\u001b[1;32m      5\u001b[0m     \u001b[0mtitle\u001b[0m\u001b[0;34m=\u001b[0m\u001b[0md\u001b[0m\u001b[0;34m.\u001b[0m\u001b[0mloc\u001b[0m\u001b[0;34m[\u001b[0m\u001b[0mi\u001b[0m\u001b[0;34m,\u001b[0m\u001b[0;34m'Título'\u001b[0m\u001b[0;34m]\u001b[0m\u001b[0;34m\u001b[0m\u001b[0m\n\u001b[1;32m      6\u001b[0m \u001b[0;34m\u001b[0m\u001b[0m\n\u001b[0;32m----> 7\u001b[0;31m     \u001b[0mgsr\u001b[0m\u001b[0;34m,\u001b[0m\u001b[0murl\u001b[0m\u001b[0;34m=\u001b[0m\u001b[0mgooglescholar\u001b[0m\u001b[0;34m(\u001b[0m\u001b[0mdoi\u001b[0m\u001b[0;34m=\u001b[0m\u001b[0mdoi\u001b[0m\u001b[0;34m,\u001b[0m\u001b[0mtitle\u001b[0m\u001b[0;34m=\u001b[0m\u001b[0mtitle\u001b[0m\u001b[0;34m,\u001b[0m\u001b[0mauthor\u001b[0m\u001b[0;34m=\u001b[0m\u001b[0mauthor\u001b[0m\u001b[0;34m,\u001b[0m\u001b[0mcoauthors\u001b[0m\u001b[0;34m=\u001b[0m\u001b[0mcoauthors\u001b[0m\u001b[0;34m,\u001b[0m\u001b[0myear\u001b[0m\u001b[0;34m=\u001b[0m\u001b[0myear\u001b[0m\u001b[0;34m,\u001b[0m\u001b[0mpublisher\u001b[0m\u001b[0;34m=\u001b[0m\u001b[0mpublisher\u001b[0m\u001b[0;34m,\u001b[0m\u001b[0mjournal\u001b[0m\u001b[0;34m=\u001b[0m\u001b[0mjournal\u001b[0m\u001b[0;34m)\u001b[0m\u001b[0;34m\u001b[0m\u001b[0m\n\u001b[0m\u001b[1;32m      8\u001b[0m \u001b[0;34m\u001b[0m\u001b[0m\n\u001b[1;32m      9\u001b[0m     \u001b[0mprint\u001b[0m \u001b[0;34m(\u001b[0m\u001b[0mgsr\u001b[0m\u001b[0;34m)\u001b[0m\u001b[0;34m\u001b[0m\u001b[0m\n",
      "\u001b[0;32m<ipython-input-80-2e200e9480b6>\u001b[0m in \u001b[0;36mgooglescholar\u001b[0;34m(title, author, coauthors, doi, year, publisher, journal, volume, issue, pages, DEBUG)\u001b[0m\n\u001b[1;32m    168\u001b[0m     \u001b[0;31m#print(url)\u001b[0m\u001b[0;34m\u001b[0m\u001b[0;34m\u001b[0m\u001b[0m\n\u001b[1;32m    169\u001b[0m \u001b[0;34m\u001b[0m\u001b[0m\n\u001b[0;32m--> 170\u001b[0;31m     \u001b[0mgsr\u001b[0m\u001b[0;34m=\u001b[0m\u001b[0mgetmetadatos\u001b[0m\u001b[0;34m(\u001b[0m\u001b[0mr\u001b[0m\u001b[0;34m)\u001b[0m\u001b[0;34m\u001b[0m\u001b[0m\n\u001b[0m\u001b[1;32m    171\u001b[0m \u001b[0;34m\u001b[0m\u001b[0m\n\u001b[1;32m    172\u001b[0m     \u001b[0;32mreturn\u001b[0m \u001b[0mgsr\u001b[0m\u001b[0;34m,\u001b[0m\u001b[0murl\u001b[0m\u001b[0;34m\u001b[0m\u001b[0m\n",
      "\u001b[0;32m<ipython-input-80-2e200e9480b6>\u001b[0m in \u001b[0;36mgetmetadatos\u001b[0;34m(r)\u001b[0m\n\u001b[1;32m     41\u001b[0m \u001b[0;34m\u001b[0m\u001b[0m\n\u001b[1;32m     42\u001b[0m     \u001b[0;31m#para link de citas\u001b[0m\u001b[0;34m\u001b[0m\u001b[0;34m\u001b[0m\u001b[0m\n\u001b[0;32m---> 43\u001b[0;31m     \u001b[0mgsc\u001b[0m\u001b[0;34m=\u001b[0m\u001b[0mfr\u001b[0m\u001b[0;34m.\u001b[0m\u001b[0mfind_all\u001b[0m\u001b[0;34m(\u001b[0m\u001b[0;34m'div'\u001b[0m\u001b[0;34m,\u001b[0m\u001b[0;34m{\u001b[0m\u001b[0;34m'class'\u001b[0m\u001b[0;34m:\u001b[0m\u001b[0;34m'gs_fl'\u001b[0m\u001b[0;34m}\u001b[0m\u001b[0;34m)\u001b[0m\u001b[0;34m[\u001b[0m\u001b[0;36m1\u001b[0m\u001b[0;34m]\u001b[0m\u001b[0;34m\u001b[0m\u001b[0m\n\u001b[0m\u001b[1;32m     44\u001b[0m     \u001b[0;32mif\u001b[0m \u001b[0mgsc\u001b[0m\u001b[0;34m:\u001b[0m\u001b[0;34m\u001b[0m\u001b[0m\n\u001b[1;32m     45\u001b[0m         \u001b[0mgscc\u001b[0m\u001b[0;34m=\u001b[0m\u001b[0mgsc\u001b[0m\u001b[0;34m.\u001b[0m\u001b[0mfind_all\u001b[0m\u001b[0;34m(\u001b[0m\u001b[0;34m'a'\u001b[0m\u001b[0;34m,\u001b[0m \u001b[0;34m{\u001b[0m\u001b[0;34m'href'\u001b[0m\u001b[0;34m:\u001b[0m\u001b[0mre\u001b[0m\u001b[0;34m.\u001b[0m\u001b[0mcompile\u001b[0m\u001b[0;34m(\u001b[0m\u001b[0;34m'/scholar\\?cites='\u001b[0m\u001b[0;34m)\u001b[0m\u001b[0;34m}\u001b[0m\u001b[0;34m)\u001b[0m\u001b[0;34m[\u001b[0m\u001b[0;36m0\u001b[0m\u001b[0;34m]\u001b[0m\u001b[0;34m\u001b[0m\u001b[0m\n",
      "\u001b[0;31mIndexError\u001b[0m: list index out of range"
     ]
    }
   ],
   "source": [
    "df=pd.DataFrame()\n",
    "\n",
    "for i in d.index:\n",
    "    doi=d.loc[i,'DOI']\n",
    "    title=d.loc[i,'Título']  \n",
    "    \n",
    "    gsr,url=googlescholar(doi=doi,title=title,author=author,coauthors=coauthors,year=year,publisher=publisher,journal=journal)    \n",
    "    \n",
    "    print (gsr)\n",
    "    #TU codigo\n",
    "    #gsr=....\n",
    "    #Añanadir a gsr los datos de DOI, Título (opcional) a gsr \n",
    "    #Actualizar dataframe\n",
    "    #salvar el datframe\n",
    "    time.sleep(2)"
   ]
  }
 ],
 "metadata": {
  "kernelspec": {
   "display_name": "Python 3",
   "language": "python",
   "name": "python3"
  },
  "language_info": {
   "codemirror_mode": {
    "name": "ipython",
    "version": 3
   },
   "file_extension": ".py",
   "mimetype": "text/x-python",
   "name": "python",
   "nbconvert_exporter": "python",
   "pygments_lexer": "ipython3",
   "version": "3.5.3"
  }
 },
 "nbformat": 4,
 "nbformat_minor": 2
}
