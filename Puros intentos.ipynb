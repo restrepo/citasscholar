{
 "cells": [
  {
   "cell_type": "markdown",
   "metadata": {},
   "source": [
    "# 1°"
   ]
  },
  {
   "cell_type": "code",
   "execution_count": 115,
   "metadata": {
    "collapsed": true
   },
   "outputs": [],
   "source": [
    "import re \n",
    "import requests\n",
    "headers_Get = {\n",
    "        'User-Agent': 'Mozilla/5.0 (Windows NT 6.1; WOW64; rv:49.0) Gecko/20100101 Firefox/49.0',\n",
    "        'Accept': 'text/html,application/xhtml+xml,application/xml;q=0.9,*/*;q=0.8',\n",
    "        'Accept-Language': 'en-US,en;q=0.5',\n",
    "        'Accept-Encoding': 'gzip, deflate',\n",
    "        'DNT': '1',\n",
    "        'Connection': 'keep-alive',\n",
    "        'Upgrade-Insecure-Requests': '1'\n",
    "    }"
   ]
  },
  {
   "cell_type": "markdown",
   "metadata": {},
   "source": [
    "Ejemplo de búsqueda:"
   ]
  },
  {
   "cell_type": "code",
   "execution_count": 272,
   "metadata": {
    "collapsed": true
   },
   "outputs": [],
   "source": [
    "title='Evidence of Open Access of scientific publications in Google Scholar: a large-scale analysis'# Evidence of Open Access of scientific publications in Google Scholar: a large-scale analysis\n",
    "author='Alberto Martín-Martín'# Alberto Martín-Martín\n",
    "coauthors=['R Costas', 'T van Leeuwen']\n",
    "doi='10.1016/J.JOI.2018.06.012'\n",
    "year='2006'\n",
    "publisher='Oxford University Press'\n",
    "journal=''\n",
    "volume=''\n",
    "issue=''\n",
    "pages=''"
   ]
  },
  {
   "cell_type": "markdown",
   "metadata": {},
   "source": [
    "TAREA: Implementar\n",
    "* title,\n",
    "* cites number\n",
    "* link al PDF\n",
    "* Journal \n",
    "* Year\n",
    "* abstract\n",
    "* Perfil de Google scholar para los autores"
   ]
  },
  {
   "cell_type": "code",
   "execution_count": 275,
   "metadata": {
    "collapsed": true
   },
   "outputs": [],
   "source": [
    "def getmetadatos(res):\n",
    "    gsr={}\n",
    "    try:\n",
    "        fr=res.find_all('div',{'class':'gs_r gs_or gs_scl'})[0]\n",
    "    except IndexError:\n",
    "        fr=BeautifulSoup('',\"html.parser\")\n",
    "        \n",
    "    gsa=fr.find('div', {'class':\"gs_a\"}) #¿CÓMO SE RESUELVE ACÁ CON LOS COAUTHORS?\n",
    "    \n",
    "    if gsa:\n",
    "        gsr['authors']=gsa.text.split('\\xa0-')[0]\n",
    "    else:\n",
    "        gsr['authors']=''\n",
    "    return gsr\n",
    "\n",
    "    \n",
    "def googlescholar(title='', author='', coauthors=[], doi='', year=0, publisher='',\n",
    "                  journal='', volume='', issue='', pages=0, ) :\n",
    "    import sys\n",
    "    gsr={}\n",
    "    \n",
    "    s = requests.Session()\n",
    "    url='https://scholar.google.co.in/scholar_lookup?'\n",
    "    \n",
    "    nl=0\n",
    "    if title:\n",
    "        nl=nl+1\n",
    "        url= url+'title={}'.format(title.replace(' ','+'))\n",
    "    if author:\n",
    "        if nl: url= url+'&'\n",
    "        nl=nl+1\n",
    "        url= url+'author={}'.format(author.replace(' ','+'))\n",
    "    if doi:\n",
    "        if nl: url= url+'&'\n",
    "        nl=nl+1    \n",
    "        url= url+'doi={}'.format(doi)\n",
    "    if year:\n",
    "        if nl: url= url+'&'\n",
    "        nl=nl+1\n",
    "        url= url+'year={}'.format(year)\n",
    "    if publisher:\n",
    "        if nl: url= url+'&'\n",
    "        nl=nl+1\n",
    "        url= url+'publisher={}'.format(publisher.replace(' ','+'))\n",
    "    if journal:\n",
    "        if nl: url= url+'&'\n",
    "        nl=nl+1     \n",
    "        url= url+'journal={}'.format(journal.replace(' ','+'))\n",
    "    if volume:\n",
    "        if nl: url= url+'&'\n",
    "        nl=nl+1\n",
    "        url= url+'volume={}'.format(volume)\n",
    "    if issue:\n",
    "        if nl: url= url+'&'\n",
    "        nl=nl+1\n",
    "        url= url+'issue={}'.format(issue)   \n",
    "    if pages:\n",
    "        if nl: url= url+'&'\n",
    "        nl=nl+1\n",
    "        url= url+'pages={}'.format(pages)\n",
    "    if coauthors:\n",
    "        for i in coauthors :\n",
    "            if nl: url= url+'&'\n",
    "            nl=nl+1\n",
    "            url= url+'coauthors={}'.format(i.replace(' ','+'))        \n",
    " \n",
    "            \n",
    "    r=s.get(url,headers=headers_Get)\n",
    "    #print(url)\n",
    "       \n",
    "    \n",
    "    # interpretar HTML\n",
    "    from bs4 import BeautifulSoup\n",
    "    res=BeautifulSoup(r.text,\"html.parser\")\n",
    "   \n",
    "    gsr=getmetadatos(res)\n",
    "        \n",
    "    return gsr "
   ]
  },
  {
   "cell_type": "code",
   "execution_count": 276,
   "metadata": {},
   "outputs": [
    {
     "name": "stdout",
     "output_type": "stream",
     "text": [
      "https://scholar.google.co.in/scholar_lookup?title=Evidence+of+Open+Access+of+scientific+publications+in+Google+Scholar:+a+large-scale+analysis&author=Alberto+Martín-Martín&coauthors=R+Costas&coauthors=T+van+Leeuwen\n"
     ]
    },
    {
     "data": {
      "text/plain": [
       "{'authors': 'A Martín-Martín, R Costas, T van Leeuwen…'}"
      ]
     },
     "execution_count": 276,
     "metadata": {},
     "output_type": "execute_result"
    }
   ],
   "source": [
    "googlescholar(title='Evidence of Open Access of scientific publications in Google Scholar: a large-scale analysis',\n",
    "            author='Alberto Martín-Martín',\n",
    "            coauthors=['R Costas', 'T van Leeuwen'] )"
   ]
  },
  {
   "cell_type": "code",
   "execution_count": null,
   "metadata": {
    "collapsed": true
   },
   "outputs": [],
   "source": [
    "title='Evidence of Open Access of scientific publications in Google Scholar: a large-scale analysis'# Evidence of Open Access of scientific publications in Google Scholar: a large-scale analysis\n",
    "author='Alberto Martín-Martín'# Alberto Martín-Martín\n",
    "coauthors=[''] #'\n",
    "doi='' # 10.1016/J.JOI.2018.06.012\n",
    "year=''\n",
    "publisher='' #Oxford University Press\n",
    "journal=''\n",
    "volume=''\n",
    "issue=''\n",
    "pages=''\n",
    "hl=''"
   ]
  },
  {
   "cell_type": "code",
   "execution_count": null,
   "metadata": {
    "collapsed": true
   },
   "outputs": [],
   "source": [
    "title='', author='', coauthors=[''], doi='', year='', publisher='', journal='', volume='', issue='', pages='', hl=''"
   ]
  },
  {
   "cell_type": "markdown",
   "metadata": {},
   "source": [
    "# Temnporal\n",
    "res → record"
   ]
  },
  {
   "cell_type": "code",
   "execution_count": null,
   "metadata": {
    "collapsed": true
   },
   "outputs": [],
   "source": [
    "def get_google_scholar(record):\n",
    "    '''\n",
    "    Analyise the BeautifulSoup record for an article \n",
    "    in Google Scholar.\n",
    "    Output is a Python dictionary with keys: \n",
    "    'title', 'authors','profiles','Jornal','Year',\n",
    "    'abstract','cites','cites_link'\n",
    "    '''\n",
    "    import random\n",
    "    import time\n",
    "    gsr={}\n",
    "    try:\n",
    "        cites=record.find_all('a',{\"href\":re.compile( \"/scholar\\?cites*\" )})[0]\n",
    "        try:\n",
    "            gsr['cites']=int( cites.text.split()[-1] )\n",
    "            gsr['cites_link']=cites.attrs.get('href')\n",
    "        except:\n",
    "            gsr['cites']=0\n",
    "    except:\n",
    "        cites=None\n",
    "\n",
    "    # Title\n",
    "    try:\n",
    "        #The .split('XXX')[-1]  does not afect the result when .text does no contains 'XXX'\n",
    "        tc=record.find_all('h3',{\"class\":\"gs_rt\"})[0].text.split('[CITATION][C] ')[-1]\n",
    "    except:\n",
    "        tc=''\n",
    "\n",
    "    gsr['title']=tc.strip().split('[HTML][HTML] ')[-1].split(\n",
    "                                  '[PDF][PDF] '  )[-1]\n",
    "    \n",
    "    # Explore authors, google scholar profile, Journal and Year\n",
    "    gpa=None\n",
    "    try:\n",
    "        gpa=record.find_all('div',{\"class\":\"gs_a\"})[0]\n",
    "        gsr['ref']=gpa.text.strip()\n",
    "        gsr['authors']=gpa.text.split('-')[0].strip()\n",
    "        try:\n",
    "            jy=gpa.text.split('-')[1].strip()\n",
    "            gsr['Journal']=jy.split(',')[0]\n",
    "            try:\n",
    "                gsr['Year']=eval(jy.split(',')[1])\n",
    "            except:\n",
    "                gsr['Year']=-1\n",
    "        except:\n",
    "            gsr['Journal']=''\n",
    "    except:\n",
    "        gsr['authors']=''\n",
    "        gsr['ref']=''\n",
    "\n",
    "    #Abstract:\n",
    "    try:\n",
    "        gsr['abstract']=record.find_all('div',{'class':'gs_rs'})[0].text.replace('\\xa0…','')\n",
    "    except:\n",
    "        gsr['abstract']=''\n",
    "    # citations\n",
    "    if gpa:\n",
    "        lpr=gpa.find_all(\"a\",{ \"href\":re.compile(\"/citations\\?user=*\")   } )\n",
    "        prf={}\n",
    "        for pr in lpr:\n",
    "            prf[ pr.text ]=pr.attrs.get('href').split('?')[-1].split('&')[0].split('user=')[-1]\n",
    "        gsr['profiles']=prf\n",
    "    \n",
    "    time.sleep( random.randint(1,3)  ) # avoid robots\n",
    "    return gsr"
   ]
  }
 ],
 "metadata": {
  "kernelspec": {
   "display_name": "Python 3",
   "language": "python",
   "name": "python3"
  },
  "language_info": {
   "codemirror_mode": {
    "name": "ipython",
    "version": 3
   },
   "file_extension": ".py",
   "mimetype": "text/x-python",
   "name": "python",
   "nbconvert_exporter": "python",
   "pygments_lexer": "ipython3",
   "version": "3.4.2"
  }
 },
 "nbformat": 4,
 "nbformat_minor": 2
}
