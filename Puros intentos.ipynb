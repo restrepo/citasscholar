{
 "cells": [
  {
   "cell_type": "markdown",
   "metadata": {},
   "source": [
    "# 1°"
   ]
  },
  {
   "cell_type": "code",
   "execution_count": 115,
   "metadata": {
    "collapsed": true
   },
   "outputs": [],
   "source": [
    "import re \n",
    "import requests\n",
    "headers_Get = {\n",
    "        'User-Agent': 'Mozilla/5.0 (Windows NT 6.1; WOW64; rv:49.0) Gecko/20100101 Firefox/49.0',\n",
    "        'Accept': 'text/html,application/xhtml+xml,application/xml;q=0.9,*/*;q=0.8',\n",
    "        'Accept-Language': 'en-US,en;q=0.5',\n",
    "        'Accept-Encoding': 'gzip, deflate',\n",
    "        'DNT': '1',\n",
    "        'Connection': 'keep-alive',\n",
    "        'Upgrade-Insecure-Requests': '1'\n",
    "}"
   ]
  },
  {
   "cell_type": "markdown",
   "metadata": {},
   "source": [
    "# Ejemplo de búsqueda:"
   ]
  },
  {
   "cell_type": "code",
   "execution_count": 285,
   "metadata": {
    "collapsed": true
   },
   "outputs": [],
   "source": [
    "title='Evidence of Open Access of scientific publications in Google Scholar: a large-scale analysis'# Evidence of Open Access of scientific publications in Google Scholar: a large-scale analysis\n",
    "author='Alberto Martín-Martín'# Alberto Martín-Martín\n",
    "coauthors=['R Costas', 'T van Leeuwen']\n",
    "doi='10.1016/J.JOI.2018.06.012'\n",
    "year='2006'\n",
    "publisher='Oxford University Press'\n",
    "journal=''\n",
    "volume=''\n",
    "issue=''\n",
    "pages=''"
   ]
  },
  {
   "cell_type": "code",
   "execution_count": null,
   "metadata": {
    "collapsed": true
   },
   "outputs": [],
   "source": [
    "title='', author='', coauthors=[''], doi='', year='', publisher='', journal='', volume='', issue='', pages='', hl=''"
   ]
  },
  {
   "cell_type": "markdown",
   "metadata": {},
   "source": [
    "TAREA: Implementar\n",
    "* title,\n",
    "* cites number\n",
    "* link al PDF\n",
    "* Journal \n",
    "* Year\n",
    "* abstract\n",
    "* Perfil de Google scholar para los autores\n",
    "* Publisher"
   ]
  },
  {
   "cell_type": "markdown",
   "metadata": {},
   "source": [
    "## Tutorial\n",
    "### `try` en Python\n",
    "En Python se puede progamar usando los errores, para ello si algo es propenso a errores, se puede \"intentar\" ejecutar el comando peligroso, no directamente sino con un `try`.\n",
    "\n",
    "El `try` tiene la siguiente estructura:\n",
    "\n",
    "```python\n",
    "try:\n",
    "   código peligroso\n",
    "except:\n",
    "    codigo a ejecutar en caso de fallo\n",
    "```\n",
    "Para hacer la excepción más específica, se puede usara el tipo de error generado: letras en rojo en el mensaje de error, \n",
    "por ejemplo <font color='red'>IndexError</font>, en tal caso se usa\n",
    "\n",
    "```python\n",
    "try:\n",
    "   código peligroso\n",
    "except IndexError:\n",
    "    codigo a ejecutar en caso de que el error sea IndexError. \n",
    "```\n",
    "Para otro tipo de error el programa se detiene con el nuevo mensaje de error.\n",
    "\n",
    "Ejemplo:\n",
    "\n",
    "Primero el error convencional, para ilustrar que el programa detiene su ejecución: no muestra 'voy aqui 2'"
   ]
  },
  {
   "cell_type": "code",
   "execution_count": 563,
   "metadata": {},
   "outputs": [
    {
     "name": "stdout",
     "output_type": "stream",
     "text": [
      "voy aqui 1\n"
     ]
    },
    {
     "ename": "IndexError",
     "evalue": "list index out of range",
     "output_type": "error",
     "traceback": [
      "\u001b[0;31m---------------------------------------------------------------------------\u001b[0m",
      "\u001b[0;31mIndexError\u001b[0m                                Traceback (most recent call last)",
      "\u001b[0;32m<ipython-input-563-3385e031de86>\u001b[0m in \u001b[0;36m<module>\u001b[0;34m()\u001b[0m\n\u001b[1;32m      1\u001b[0m \u001b[0mprint\u001b[0m\u001b[0;34m(\u001b[0m\u001b[0;34m'voy aqui 1'\u001b[0m\u001b[0;34m)\u001b[0m\u001b[0;34m\u001b[0m\u001b[0m\n\u001b[0;32m----> 2\u001b[0;31m \u001b[0mres\u001b[0m\u001b[0;34m.\u001b[0m\u001b[0mfind_all\u001b[0m\u001b[0;34m(\u001b[0m\u001b[0;34m'div'\u001b[0m\u001b[0;34m,\u001b[0m\u001b[0;34m{\u001b[0m\u001b[0;34m'class'\u001b[0m\u001b[0;34m:\u001b[0m\u001b[0;34m'gs_rxxx gs_or gs_scl'\u001b[0m\u001b[0;34m}\u001b[0m\u001b[0;34m)\u001b[0m\u001b[0;34m[\u001b[0m\u001b[0;36m0\u001b[0m\u001b[0;34m]\u001b[0m\u001b[0;34m\u001b[0m\u001b[0m\n\u001b[0m\u001b[1;32m      3\u001b[0m \u001b[0mprint\u001b[0m\u001b[0;34m(\u001b[0m\u001b[0;34m'voy aqui 2'\u001b[0m\u001b[0;34m)\u001b[0m\u001b[0;34m\u001b[0m\u001b[0m\n",
      "\u001b[0;31mIndexError\u001b[0m: list index out of range"
     ]
    }
   ],
   "source": [
    "print('voy aqui 1')\n",
    "res.find_all('div',{'class':'gs_rxxx gs_or gs_scl'})[0]\n",
    "print('voy aqui 2')"
   ]
  },
  {
   "cell_type": "markdown",
   "metadata": {},
   "source": [
    "Implementación de una excepción génerica"
   ]
  },
  {
   "cell_type": "code",
   "execution_count": 564,
   "metadata": {},
   "outputs": [
    {
     "ename": "IndentationError",
     "evalue": "expected an indented block (<ipython-input-564-41c6921bac98>, line 3)",
     "output_type": "error",
     "traceback": [
      "\u001b[0;36m  File \u001b[0;32m\"<ipython-input-564-41c6921bac98>\"\u001b[0;36m, line \u001b[0;32m3\u001b[0m\n\u001b[0;31m    import random\u001b[0m\n\u001b[0m         ^\u001b[0m\n\u001b[0;31mIndentationError\u001b[0m\u001b[0;31m:\u001b[0m expected an indented block\n"
     ]
    }
   ],
   "source": [
    "print('voy aqui 1')\n",
    "try:#al imprimir url sale coauthors aún estando vacio  \n",
    "import random\n",
    "import time\n",
    "\n",
    "\n",
    "\n",
    "    res.find_all('div',{'class':'gs_rxxx gs_or gs_scl'})[0]\n",
    "except:\n",
    "    print('voy aqui 1.1')\n",
    "    \n",
    "print('voy aqui 2')"
   ]
  },
  {
   "cell_type": "markdown",
   "metadata": {},
   "source": [
    "Si no se captura el error correcto, el programa se vuelve a detener"
   ]
  },
  {
   "cell_type": "code",
   "execution_count": 565,
   "metadata": {},
   "outputs": [
    {
     "ename": "ValueError",
     "evalue": "could not convert string to float: 'a'",
     "output_type": "error",
     "traceback": [
      "\u001b[0;31m---------------------------------------------------------------------------\u001b[0m",
      "\u001b[0;31mValueError\u001b[0m                                Traceback (most recent call last)",
      "\u001b[0;32m<ipython-input-565-99859da4e72c>\u001b[0m in \u001b[0;36m<module>\u001b[0;34m()\u001b[0m\n\u001b[0;32m----> 1\u001b[0;31m \u001b[0mfloat\u001b[0m\u001b[0;34m(\u001b[0m\u001b[0;34m'a'\u001b[0m\u001b[0;34m)\u001b[0m\u001b[0;34m\u001b[0m\u001b[0m\n\u001b[0m",
      "\u001b[0;31mValueError\u001b[0m: could not convert string to float: 'a'"
     ]
    }
   ],
   "source": [
    "float('a')"
   ]
  },
  {
   "cell_type": "code",
   "execution_count": 566,
   "metadata": {},
   "outputs": [
    {
     "name": "stdout",
     "output_type": "stream",
     "text": [
      "voy aqui 1\n"
     ]
    },
    {
     "ename": "IndexError",
     "evalue": "list index out of range",
     "output_type": "error",
     "traceback": [
      "\u001b[0;31m---------------------------------------------------------------------------\u001b[0m",
      "\u001b[0;31mIndexError\u001b[0m                                Traceback (most recent call last)",
      "\u001b[0;32m<ipython-input-566-fbf088b932c0>\u001b[0m in \u001b[0;36m<module>\u001b[0;34m()\u001b[0m\n\u001b[1;32m      1\u001b[0m \u001b[0mprint\u001b[0m\u001b[0;34m(\u001b[0m\u001b[0;34m'voy aqui 1'\u001b[0m\u001b[0;34m)\u001b[0m\u001b[0;34m\u001b[0m\u001b[0m\n\u001b[1;32m      2\u001b[0m \u001b[0;32mtry\u001b[0m\u001b[0;34m:\u001b[0m\u001b[0;34m\u001b[0m\u001b[0m\n\u001b[0;32m----> 3\u001b[0;31m     \u001b[0mres\u001b[0m\u001b[0;34m.\u001b[0m\u001b[0mfind_all\u001b[0m\u001b[0;34m(\u001b[0m\u001b[0;34m'div'\u001b[0m\u001b[0;34m,\u001b[0m\u001b[0;34m{\u001b[0m\u001b[0;34m'class'\u001b[0m\u001b[0;34m:\u001b[0m\u001b[0;34m'gs_rxxx gs_or gs_scl'\u001b[0m\u001b[0;34m}\u001b[0m\u001b[0;34m)\u001b[0m\u001b[0;34m[\u001b[0m\u001b[0;36m0\u001b[0m\u001b[0;34m]\u001b[0m\u001b[0;34m\u001b[0m\u001b[0m\n\u001b[0m\u001b[1;32m      4\u001b[0m \u001b[0;32mexcept\u001b[0m \u001b[0mValueError\u001b[0m\u001b[0;34m:\u001b[0m\u001b[0;34m\u001b[0m\u001b[0m\n\u001b[1;32m      5\u001b[0m     \u001b[0mprint\u001b[0m\u001b[0;34m(\u001b[0m\u001b[0;34m'voy aqui 1.1'\u001b[0m\u001b[0;34m)\u001b[0m\u001b[0;34m\u001b[0m\u001b[0m\n",
      "\u001b[0;31mIndexError\u001b[0m: list index out of range"
     ]
    }
   ],
   "source": [
    "print('voy aqui 1')\n",
    "try:\n",
    "    res.find_all('div',{'class':'gs_rxxx gs_or gs_scl'})[0]\n",
    "except ValueError:\n",
    "    print('voy aqui 1.1')\n",
    "    \n",
    "print('voy aqui 2')"
   ]
  },
  {
   "cell_type": "markdown",
   "metadata": {},
   "source": [
    "La forma recomenda es usar el `except` acompañado del tipo de error que se espera si el programa falla, en este caso <font color='red'>IndexError</font>:"
   ]
  },
  {
   "cell_type": "code",
   "execution_count": 330,
   "metadata": {
    "scrolled": true
   },
   "outputs": [
    {
     "name": "stdout",
     "output_type": "stream",
     "text": [
      "voy aqui 1\n",
      "voy aqui 1.1\n",
      "voy aqui 2\n"
     ]
    }
   ],
   "source": [
    "print('voy aqui 1')\n",
    "try:\n",
    "    res.find_all('div',{'class':'gs_rxxx gs_or gs_scl'})[0]\n",
    "except IndexError:\n",
    "    print('voy aqui 1.1')\n",
    "    \n",
    "print('voy aqui 2')"
   ]
  },
  {
   "cell_type": "markdown",
   "metadata": {},
   "source": [
    "### Procesar el HTML\n",
    "Los pasos son:\n",
    "* Importar la función para procesar el HTML:\n",
    "```\n",
    "from IPython.display import HTML\n",
    "```\n",
    "Y en cualquier celda, usar `HTML('string en HTML')`"
   ]
  },
  {
   "cell_type": "markdown",
   "metadata": {},
   "source": [
    "### Busqueda por expresiones regular\n",
    "https://en.wikipedia.org/wiki/Regular_expression\n",
    "\n",
    "Desarrollar los ejeplos de la tabla de la wikipdia"
   ]
  },
  {
   "cell_type": "code",
   "execution_count": 1055,
   "metadata": {},
   "outputs": [
    {
     "data": {
      "text/plain": [
       "<_sre.SRE_Match object; span=(0, 11), match='Hello World'>"
      ]
     },
     "execution_count": 1055,
     "metadata": {},
     "output_type": "execute_result"
    }
   ],
   "source": [
    "import re\n",
    "#intente pòner 12 puntos y compruebe que no entrega resultado\n",
    "s = \"Hello World\\n\";\n",
    "re.search( '...........' , s)"
   ]
  },
  {
   "cell_type": "code",
   "execution_count": 1078,
   "metadata": {},
   "outputs": [],
   "source": [
    "import re\n",
    "#intente pòner 12 puntos y compruebe que no entrega resultado\n",
    "s = \"Hello World\\n\";\n",
    "rr=re.search( 'l+' , s)"
   ]
  },
  {
   "cell_type": "code",
   "execution_count": 1085,
   "metadata": {},
   "outputs": [
    {
     "data": {
      "text/plain": [
       "<_sre.SRE_Match object; span=(0, 2), match='He'>"
      ]
     },
     "execution_count": 1085,
     "metadata": {},
     "output_type": "execute_result"
    }
   ],
   "source": [
    "s = \"Hello World\\n\";\n",
    "re.search( 'H.?e' , s)"
   ]
  },
  {
   "cell_type": "code",
   "execution_count": 1127,
   "metadata": {},
   "outputs": [
    {
     "data": {
      "text/plain": [
       "<_sre.SRE_Match object; span=(0, 0), match=''>"
      ]
     },
     "execution_count": 1127,
     "metadata": {},
     "output_type": "execute_result"
    }
   ],
   "source": [
    "s = \"casa\";\n",
    "re.search( 's*', s)"
   ]
  },
  {
   "cell_type": "code",
   "execution_count": 1136,
   "metadata": {},
   "outputs": [
    {
     "data": {
      "text/plain": [
       "<_sre.SRE_Match object; span=(0, 15), match='/scholar?cites='>"
      ]
     },
     "execution_count": 1136,
     "metadata": {},
     "output_type": "execute_result"
    }
   ],
   "source": [
    "s=\"/scholar?cites=1140406698598747786&amp;as_sdt=2005&amp;sciodt=0,5&amp;hl=en\"\n",
    "re.search('/scholar\\?cites=',s)"
   ]
  },
  {
   "cell_type": "code",
   "execution_count": 338,
   "metadata": {
    "collapsed": true
   },
   "outputs": [],
   "source": [
    "from IPython.display import HTML"
   ]
  },
  {
   "cell_type": "code",
   "execution_count": 1225,
   "metadata": {
    "collapsed": true
   },
   "outputs": [],
   "source": [
    "# Implementar aquí\n",
    "def getmetadatos(r):\n",
    "    from bs4 import BeautifulSoup\n",
    "    res=BeautifulSoup(r.text,\"html.parser\")\n",
    "\n",
    "    gsr={}\n",
    "    try:\n",
    "        fr=res.find_all('div',{'class':'gs_r gs_or gs_scl'})[0]\n",
    "    except IndexError:\n",
    "        fr=BeautifulSoup('',\"html.parser\")\n",
    "        \n",
    "    #para autor  \n",
    "    gsa=fr.find('div', {'class':'gs_a'}) \n",
    "    if gsa:\n",
    "        gsr['authors']=gsa.text.split('\\xa0-')[0]\n",
    "    else:\n",
    "        gsr['authors']=''\n",
    "        \n",
    "    #para título    \n",
    "    gst=fr.find('h3',{'class':'gs_rt'})\n",
    "    if gst:\n",
    "        gsr['title']=gst.find_all('a')[0].text\n",
    "    else:\n",
    "        gsr['title']=''\n",
    "        \n",
    "    #para link de citas            \n",
    "    gsc=fr.find_all('div',{'class':'gs_fl'})[1]\n",
    "    if gsc:\n",
    "        gscc=gsc.find_all('a', {'href':re.compile('/scholar\\?cites=')})[0]\n",
    "        gsr['cites']=int( gscc.text.split()[-1] )\n",
    "        gsr['cites_link']=gscc.attrs.get('href') #LOS LINK APARECEN DIFERENTES. Para qué el attrs, con el solo get trae el link\n",
    "    else:\n",
    "        gsr['cites']=''  \n",
    "\n",
    "    #para link pdf\n",
    "    gsp=fr.find_all('div',{'class':'gs_or_ggsm'})[0]\n",
    "    if gsp:\n",
    "        gspd=gsp.find('a').get('href') # ['href'] pude generar error\n",
    "        gsr['pdf']=gspd\n",
    "    else:\n",
    "        gsr['pdf']=''\n",
    "        \n",
    "    #Year\n",
    "    gsy=fr.find('div', {'class':'gs_a'})\n",
    "    if gsy:\n",
    "        gsr['year']=gsy.text.split('-')[-2].strip().split(',')[-1]\n",
    "        gsr['year']=eval('year')\n",
    "    else:\n",
    "        gsr['year']=''\n",
    "\n",
    "    #Journal \n",
    "    gsj=fr.find('div', {'class':'gs_a'})\n",
    "    if gsj:\n",
    "        gsr['journal']=gsj.text.split('-')[-2].strip().split(',')[-2].replace('arXiv\\xa0…', '').strip()\n",
    "    else:\n",
    "        gsr['journal']=''\n",
    "        \n",
    "    #publisher\n",
    "    gsj=fr.find('div', {'class':'gs_a'})\n",
    "    if gsj:\n",
    "        gsr['publisher']=gsj.text.split('-')[-1].strip()\n",
    "    else:\n",
    "        gsr['publisher']=''\n",
    "\n",
    "    #google scholar profile en: https://scholar.google.com/citations?hl=en&user=HERE\n",
    "    gpa=fr.find_all('div',{'class':'gs_a'})[0]\n",
    "    if gpa:\n",
    "        prf={}\n",
    "        for pr in gpa.find_all('a'):\n",
    "            key=pr.text\n",
    "            value=pr.get('href').split('=')[1].split('&')[0]\n",
    "            prf[key]=value\n",
    "        gsr['profiles']=prf \n",
    "        \n",
    "    #abstract\n",
    "    gsab=fr.find_all('div',{'class':'gs_rs'})[0]\n",
    "    if gsab:\n",
    "        gsr['abstract']=gsab.text.replace('\\xa0…','')\n",
    "\n",
    "    return gsr\n",
    "             \n",
    "       \n",
    "def googlescholar(title='', author='', coauthors=[], doi='', year=0, publisher='',\n",
    "                  journal='', volume='', issue='', pages=0, DEBUG=False ):\n",
    "    '''\n",
    "    DEBUG: return full web page\n",
    "    '''\n",
    "    import sys\n",
    "    gsr={}\n",
    "    \n",
    "    s = requests.Session()\n",
    "    url='https://scholar.google.co.in/scholar_lookup?'\n",
    "    \n",
    "    nl=0\n",
    "    if title:\n",
    "        nl=nl+1\n",
    "        url= url+'title={}'.format(title.replace(' ','+'))\n",
    "    if author:\n",
    "        if nl: url= url+'&'\n",
    "        nl=nl+1\n",
    "        url= url+'author={}'.format(author.replace(' ','+'))\n",
    "    if doi:\n",
    "        if nl: url= url+'&'\n",
    "        nl=nl+1    \n",
    "        url= url+'doi={}'.format(doi)\n",
    "    if year:\n",
    "        if nl: url= url+'&'\n",
    "        nl=nl+1\n",
    "        url= url+'year={}'.format(year)\n",
    "    if publisher:\n",
    "        if nl: url= url+'&'\n",
    "        nl=nl+1\n",
    "        url= url+'publisher={}'.format(publisher.replace(' ','+'))\n",
    "    if journal:\n",
    "        if nl: url= url+'&'\n",
    "        nl=nl+1     \n",
    "        url= url+'journal={}'.format(journal.replace(' ','+'))\n",
    "    if volume:\n",
    "        if nl: url= url+'&'\n",
    "        nl=nl+1\n",
    "        url= url+'volume={}'.format(volume)\n",
    "    if issue:\n",
    "        if nl: url= url+'&'\n",
    "        nl=nl+1\n",
    "        url= url+'issue={}'.format(issue)   \n",
    "    if pages:\n",
    "        if nl: url= url+'&'\n",
    "        nl=nl+1\n",
    "        url= url+'pages={}'.format(pages)\n",
    "    if coauthors:\n",
    "        for i in coauthors :\n",
    "            if nl: url= url+'&'\n",
    "            nl=nl+1\n",
    "            url= url+'author={}'.format(i.replace(' ','+'))        \n",
    " \n",
    "            \n",
    "    r=s.get(url,headers=headers_Get)\n",
    "    #print(url)\n",
    "          \n",
    "    gsr=getmetadatos(r)\n",
    "    \n",
    "    return gsr,url"
   ]
  },
  {
   "cell_type": "markdown",
   "metadata": {},
   "source": [
    "# Construir aquí"
   ]
  },
  {
   "cell_type": "markdown",
   "metadata": {},
   "source": [
    "Para construir se comenta el `def` y el `return`, se añade un `if True:`\n",
    "\n",
    "Vamos a usar el resultado siguiente:"
   ]
  },
  {
   "cell_type": "code",
   "execution_count": 1277,
   "metadata": {
    "collapsed": true
   },
   "outputs": [],
   "source": [
    "gsr,url=googlescholar(title='Evidence of Open Access of scientific publications in Google Scholar: a large-scale analysis',\n",
    "    author='Alberto Martín-Martín',coauthors=['R Costas', 'T van Leeuwen'],doi='10.1016/J.JOI.2018.06.012',\n",
    "    year='2006',publisher='Oxford University Press',DEBUG=True)"
   ]
  },
  {
   "cell_type": "code",
   "execution_count": 1278,
   "metadata": {},
   "outputs": [
    {
     "data": {
      "text/plain": [
       "'https://scholar.google.co.in/scholar_lookup?title=Evidence+of+Open+Access+of+scientific+publications+in+Google+Scholar:+a+large-scale+analysis&author=Alberto+Martín-Martín&doi=10.1016/J.JOI.2018.06.012&year=2006&publisher=Oxford+University+Press&author=R+Costas&author=T+van+Leeuwen'"
      ]
     },
     "execution_count": 1278,
     "metadata": {},
     "output_type": "execute_result"
    }
   ],
   "source": [
    "url"
   ]
  },
  {
   "cell_type": "code",
   "execution_count": 1279,
   "metadata": {},
   "outputs": [
    {
     "data": {
      "text/plain": [
       "{'abstract': 'Abstract This article uses Google Scholar (GS) as a source of data to analyse Open Access (OA) levels across all countries and fields of research. All articles and reviews with a DOI and published in 2009 or 2014 and covered by the three main citation indexes in the Web of Science (2,269,022 documents) were selected for study. The links to freely available versions of these documents displayed in GS were collected. To differentiate between more reliable (sustainable and legal) forms of access and less reliable ones, the data extracted',\n",
       " 'authors': 'A Martín-Martín, R Costas, T van Leeuwen…',\n",
       " 'cites': 17,\n",
       " 'cites_link': '/scholar?cites=1140406698598747786&as_sdt=2005&sciodt=0,5&hl=en',\n",
       " 'journal': 'Journal of\\xa0…',\n",
       " 'pdf': 'https://arxiv.org/pdf/1803.06161',\n",
       " 'profiles': {'A Martín-Martín': 'YlPd48UAAAAJ',\n",
       "  'R Costas': '6dUTpTYAAAAJ',\n",
       "  'T van Leeuwen': 'DTRyxOUAAAAJ'},\n",
       " 'publisher': 'Elsevier',\n",
       " 'title': 'Evidence of Open Access of scientific publications in Google Scholar: a large-scale analysis',\n",
       " 'year': '2006'}"
      ]
     },
     "execution_count": 1279,
     "metadata": {},
     "output_type": "execute_result"
    }
   ],
   "source": [
    "gsr"
   ]
  },
  {
   "cell_type": "code",
   "execution_count": 1240,
   "metadata": {},
   "outputs": [],
   "source": [
    "title=\"Probing a simplified, W' model of R((D*)) anomalies using b-tags, tau leptons and missing energy\"\n",
    "gsr,url=googlescholar(doi='10.1103/PhysRevD.98.055016',\n",
    "                      title=title,\n",
    "                      author='Mohammad Abdullah',\n",
    "                      coauthors=['Julián Calle','Bhaskar Dutta','Andrés Flórez','Diego Restrepo'])"
   ]
  },
  {
   "cell_type": "code",
   "execution_count": 1241,
   "metadata": {},
   "outputs": [
    {
     "data": {
      "text/plain": [
       "\"https://scholar.google.co.in/scholar_lookup?title=Probing+a+simplified,+W'+model+of+R((D*))+anomalies+using+b-tags,+tau+leptons+and+missing+energy&author=Mohammad+Abdullah&doi=10.1103/PhysRevD.98.055016&author=Julián+Calle&author=Bhaskar+Dutta&author=Andrés+Flórez&author=Diego+Restrepo\""
      ]
     },
     "execution_count": 1241,
     "metadata": {},
     "output_type": "execute_result"
    }
   ],
   "source": [
    "url"
   ]
  },
  {
   "cell_type": "code",
   "execution_count": 1242,
   "metadata": {},
   "outputs": [
    {
     "data": {
      "text/plain": [
       "{'abstract': 'We study the LHC sensitivity to a W′ produced via bottom and charm quarks and decaying to τ flavor leptons in the mass range 200–1000 GeV. We show that the extra b quarks necessitated by the production mechanism can improve the background rejection compared to an inclusive analysis relying solely on τ tagging and ET miss. We present prospective limits on the couplings and compare them to the best fit to the R (D (*)) anomalies in B-meson decays.',\n",
       " 'authors': 'M Abdullah, J Calle, B Dutta, A Flórez, D Restrepo',\n",
       " 'cites': 12,\n",
       " 'cites_link': '/scholar?cites=9207691116162736406&as_sdt=2005&sciodt=0,5&hl=en',\n",
       " 'journal': 'Physical Review D',\n",
       " 'pdf': 'https://link.aps.org/pdf/10.1103/PhysRevD.98.055016',\n",
       " 'profiles': {'D Restrepo': '1sKULCoAAAAJ'},\n",
       " 'publisher': 'APS',\n",
       " 'title': 'Probing a simplified  model of  anomalies using  tags,  leptons, and missing energy',\n",
       " 'year': '2006'}"
      ]
     },
     "execution_count": 1242,
     "metadata": {},
     "output_type": "execute_result"
    }
   ],
   "source": [
    "gsr"
   ]
  },
  {
   "cell_type": "markdown",
   "metadata": {},
   "source": [
    "## Tarea:\n",
    "Añadir calidad para title, authors, journal, publisher, Year. Sólo si hay con que comparar\n",
    "## Generar un dataframe de resultados\n",
    "A partir de una lista con DOIs y títulos (una cada 2 segundos)"
   ]
  },
  {
   "cell_type": "code",
   "execution_count": 1283,
   "metadata": {},
   "outputs": [
    {
     "name": "stdout",
     "output_type": "stream",
     "text": [
      "0\n",
      "2\n"
     ]
    }
   ],
   "source": [
    "import time\n",
    "\n",
    "print('0')\n",
    "time.sleep(2)\n",
    "print(2)"
   ]
  },
  {
   "cell_type": "code",
   "execution_count": 1234,
   "metadata": {
    "collapsed": true
   },
   "outputs": [],
   "source": [
    "#Comparasiones de similaridad\n",
    "import Levenshtein as lv"
   ]
  },
  {
   "cell_type": "code",
   "execution_count": 1238,
   "metadata": {},
   "outputs": [
    {
     "data": {
      "text/plain": [
       "0.9050279329608939"
      ]
     },
     "execution_count": 1238,
     "metadata": {},
     "output_type": "execute_result"
    }
   ],
   "source": [
    "lv.ratio(title,gsr['title'])"
   ]
  },
  {
   "cell_type": "code",
   "execution_count": 1243,
   "metadata": {},
   "outputs": [
    {
     "data": {
      "text/plain": [
       "'M Abdullah, J Calle, B Dutta, A Flórez, D Restrepo'"
      ]
     },
     "execution_count": 1243,
     "metadata": {},
     "output_type": "execute_result"
    }
   ],
   "source": [
    "gsr['authors']"
   ]
  },
  {
   "cell_type": "code",
   "execution_count": 1270,
   "metadata": {},
   "outputs": [],
   "source": [
    "author='Mohammad Abdullah'\n",
    "#author='Pepito Pérez'\n",
    "coauthors=['Julián Calle','Bhaskar Dutta','Andrés Flórez','Diego Restrepo']\n",
    "#coauthors=['Juan Perez','Tatiana Tirado Tamayo','Simon Suarez','Esteban Giraldo']"
   ]
  },
  {
   "cell_type": "code",
   "execution_count": 1268,
   "metadata": {},
   "outputs": [
    {
     "data": {
      "text/plain": [
       "'Pepito Pérez, Juan Perez, Tatiana Tirado Tamayo, Simon Suarez, Esteban Giraldo'"
      ]
     },
     "execution_count": 1268,
     "metadata": {},
     "output_type": "execute_result"
    }
   ],
   "source": [
    "authors=author+', '+', '.join(coauthors)\n",
    "authors"
   ]
  },
  {
   "cell_type": "code",
   "execution_count": 1269,
   "metadata": {},
   "outputs": [
    {
     "data": {
      "text/plain": [
       "0.34375"
      ]
     },
     "execution_count": 1269,
     "metadata": {},
     "output_type": "execute_result"
    }
   ],
   "source": [
    "lv.ratio( authors,gsr['authors'] )"
   ]
  },
  {
   "cell_type": "code",
   "execution_count": 1271,
   "metadata": {
    "collapsed": true
   },
   "outputs": [],
   "source": [
    "gsr['title_quality']=lv.ratio(title,gsr['title'])"
   ]
  },
  {
   "cell_type": "code",
   "execution_count": 1042,
   "metadata": {},
   "outputs": [],
   "source": [
    "if True:\n",
    "    gsc=fr.find_all('div',{'class':'gs_fl'})[1]"
   ]
  },
  {
   "cell_type": "code",
   "execution_count": 1272,
   "metadata": {
    "collapsed": true
   },
   "outputs": [],
   "source": [
    "import unidecode"
   ]
  },
  {
   "cell_type": "code",
   "execution_count": 1273,
   "metadata": {},
   "outputs": [
    {
     "data": {
      "text/plain": [
       "'mama'"
      ]
     },
     "execution_count": 1273,
     "metadata": {},
     "output_type": "execute_result"
    }
   ],
   "source": [
    "unidecode.unidecode('mamá')"
   ]
  },
  {
   "cell_type": "code",
   "execution_count": 1275,
   "metadata": {},
   "outputs": [
    {
     "data": {
      "text/plain": [
       "'mama'"
      ]
     },
     "execution_count": 1275,
     "metadata": {},
     "output_type": "execute_result"
    }
   ],
   "source": [
    "unidecode.unidecode('MAMÁ').lower()"
   ]
  },
  {
   "cell_type": "code",
   "execution_count": 1276,
   "metadata": {},
   "outputs": [
    {
     "data": {
      "text/plain": [
       "0.9050279329608939"
      ]
     },
     "execution_count": 1276,
     "metadata": {},
     "output_type": "execute_result"
    }
   ],
   "source": [
    "lv.ratio( unidecode.unidecode( title).lower(),\n",
    "         unidecode.unidecode(gsr['title']).lower()  )"
   ]
  },
  {
   "cell_type": "code",
   "execution_count": 1047,
   "metadata": {},
   "outputs": [
    {
     "data": {
      "text/plain": [
       "<div class=\"gs_fl\"><a class=\"gs_or_sav\" href=\"javascript:void(0)\" role=\"button\" title=\"Save\"><svg class=\"gs_or_svg\" viewbox=\"-1 0 17 16\"><path d=\"M8 11.57l3.824 2.308-1.015-4.35 3.379-2.926-4.45-.378L8 2.122 6.261 6.224l-4.449.378 3.379 2.926-1.015 4.35z\"></path></svg></a> <a aria-controls=\"gs_cit\" aria-haspopup=\"true\" class=\"gs_or_cit gs_nph\" href=\"javascript:void(0)\" role=\"button\" title=\"Cite\"><svg class=\"gs_or_svg\" viewbox=\"-1 0 17 16\"><path d=\"M1.5 3.5v5h2v.375L1.75 12.5h3L6.5 8.875V3.5zM9.5 3.5v5h2v.375L9.75 12.5h3L14.5 8.875V3.5z\"></path></svg></a> <a href=\"/scholar?cites=1140406698598747786&amp;as_sdt=2005&amp;sciodt=0,5&amp;hl=en\">Cited by 17</a> <a href=\"/scholar?q=related:ik50qdmJ0w8J:scholar.google.com/&amp;scioq=&amp;hl=en&amp;as_sdt=0,5\">Related articles</a> <a class=\"gs_nph\" href=\"/scholar?cluster=1140406698598747786&amp;hl=en&amp;as_sdt=0,5\">All 12 versions</a> <a class=\"gs_or_mor gs_oph\" href=\"javascript:void(0)\" role=\"button\" title=\"More\"><svg class=\"gs_or_svg\" viewbox=\"-1 0 17 16\"><path d=\"M1.5 5.5l2-2L8 8l-4.5 4.5-2-2L4 8zM8.5 5.5l2-2L15 8l-4.5 4.5-2-2L11 8z\"></path></svg></a> <a class=\"gs_or_nvi gs_or_mor\" href=\"javascript:void(0)\" role=\"button\" title=\"Fewer\"><svg class=\"gs_or_svg\" viewbox=\"0 0 17 16\"><path d=\"M8.5 5.5l-2-2L2 8l4.5 4.5 2-2L6 8zM15.5 5.5l-2-2L9 8l4.5 4.5 2-2L13 8z\"></path></svg></a></div>"
      ]
     },
     "execution_count": 1047,
     "metadata": {},
     "output_type": "execute_result"
    }
   ],
   "source": [
    "gsc"
   ]
  },
  {
   "cell_type": "code",
   "execution_count": 1046,
   "metadata": {},
   "outputs": [
    {
     "data": {
      "text/plain": [
       "[<a class=\"gs_or_sav\" href=\"javascript:void(0)\" role=\"button\" title=\"Save\"><svg class=\"gs_or_svg\" viewbox=\"-1 0 17 16\"><path d=\"M8 11.57l3.824 2.308-1.015-4.35 3.379-2.926-4.45-.378L8 2.122 6.261 6.224l-4.449.378 3.379 2.926-1.015 4.35z\"></path></svg></a>,\n",
       " <a aria-controls=\"gs_cit\" aria-haspopup=\"true\" class=\"gs_or_cit gs_nph\" href=\"javascript:void(0)\" role=\"button\" title=\"Cite\"><svg class=\"gs_or_svg\" viewbox=\"-1 0 17 16\"><path d=\"M1.5 3.5v5h2v.375L1.75 12.5h3L6.5 8.875V3.5zM9.5 3.5v5h2v.375L9.75 12.5h3L14.5 8.875V3.5z\"></path></svg></a>,\n",
       " <a href=\"/scholar?cites=1140406698598747786&amp;as_sdt=2005&amp;sciodt=0,5&amp;hl=en\">Cited by 17</a>,\n",
       " <a href=\"/scholar?q=related:ik50qdmJ0w8J:scholar.google.com/&amp;scioq=&amp;hl=en&amp;as_sdt=0,5\">Related articles</a>,\n",
       " <a class=\"gs_nph\" href=\"/scholar?cluster=1140406698598747786&amp;hl=en&amp;as_sdt=0,5\">All 12 versions</a>,\n",
       " <a class=\"gs_or_mor gs_oph\" href=\"javascript:void(0)\" role=\"button\" title=\"More\"><svg class=\"gs_or_svg\" viewbox=\"-1 0 17 16\"><path d=\"M1.5 5.5l2-2L8 8l-4.5 4.5-2-2L4 8zM8.5 5.5l2-2L15 8l-4.5 4.5-2-2L11 8z\"></path></svg></a>,\n",
       " <a class=\"gs_or_nvi gs_or_mor\" href=\"javascript:void(0)\" role=\"button\" title=\"Fewer\"><svg class=\"gs_or_svg\" viewbox=\"0 0 17 16\"><path d=\"M8.5 5.5l-2-2L2 8l4.5 4.5 2-2L6 8zM15.5 5.5l-2-2L9 8l4.5 4.5 2-2L13 8z\"></path></svg></a>]"
      ]
     },
     "execution_count": 1046,
     "metadata": {},
     "output_type": "execute_result"
    }
   ],
   "source": [
    "gsc.find_all('a')"
   ]
  },
  {
   "cell_type": "code",
   "execution_count": 1201,
   "metadata": {},
   "outputs": [
    {
     "data": {
      "text/plain": [
       "[<a href=\"/scholar?cites=1140406698598747786&amp;as_sdt=2005&amp;sciodt=0,5&amp;hl=en\">Cited by 17</a>]"
      ]
     },
     "execution_count": 1201,
     "metadata": {},
     "output_type": "execute_result"
    }
   ],
   "source": [
    "gsc.find_all('a', {'href':re.compile('/scholar\\?cites=')})"
   ]
  },
  {
   "cell_type": "code",
   "execution_count": 1180,
   "metadata": {},
   "outputs": [
    {
     "data": {
      "text/plain": [
       "19"
      ]
     },
     "execution_count": 1180,
     "metadata": {},
     "output_type": "execute_result"
    }
   ],
   "source": [
    "len('1140406698598747786')"
   ]
  },
  {
   "cell_type": "code",
   "execution_count": 1202,
   "metadata": {
    "collapsed": true
   },
   "outputs": [],
   "source": [
    "if True:\n",
    "    if gsc:\n",
    "        gscc=gsc.find_all('a', {'href':re.compile('/scholar\\?cites=')})[0]\n",
    "        gsr['cites']=int( gscc.text.split()[-1] )\n",
    "        gsr['cites_link']=gscc.get('href') #LOS LINK APARECEN DIFERENTES. Para qué el attrs, con el solo get trae el link\n",
    "    else:\n",
    "        gsr['cites']=''  \n"
   ]
  },
  {
   "cell_type": "code",
   "execution_count": 1203,
   "metadata": {},
   "outputs": [
    {
     "data": {
      "text/plain": [
       "{'abstrac': 'Abstract This article uses Google Scholar (GS) as a source of data to analyse Open Access (OA) levels across all countries and fields of research. All articles and reviews with a DOI and published in 2009 or 2014 and covered by the three main citation indexes in the Web of Science (2,269,022 documents) were selected for study. The links to freely available versions of these documents displayed in GS were collected. To differentiate between more reliable (sustainable and legal) forms of access and less reliable ones, the data extracted',\n",
       " 'authors': 'A Martín-Martín, R Costas, T van Leeuwen…',\n",
       " 'cites': 17,\n",
       " 'cites_link': '/scholar?cites=1140406698598747786&as_sdt=2005&sciodt=0,5&hl=en',\n",
       " 'journal': 'Journal of\\xa0…',\n",
       " 'pdf': 'https://arxiv.org/pdf/1803.06161',\n",
       " 'profiles': {'A Martín-Martín': 'YlPd48UAAAAJ',\n",
       "  'R Costas': '6dUTpTYAAAAJ',\n",
       "  'T van Leeuwen': 'DTRyxOUAAAAJ'},\n",
       " 'publisher': 'Elsevier',\n",
       " 'title': 'Evidence of Open Access of scientific publications in Google Scholar: a large-scale analysis',\n",
       " 'year': '2006'}"
      ]
     },
     "execution_count": 1203,
     "metadata": {},
     "output_type": "execute_result"
    }
   ],
   "source": [
    "gsr"
   ]
  },
  {
   "cell_type": "code",
   "execution_count": 784,
   "metadata": {},
   "outputs": [
    {
     "data": {
      "text/plain": [
       "<div class=\"gs_or_ggsm\" ontouchstart=\"gs_evt_dsp(event)\" tabindex=\"-1\"><a data-clk=\"hl=en&amp;sa=T&amp;oi=gga&amp;ct=gga&amp;cd=0&amp;d=1140406698598747786&amp;ei=4EqBXIHCE4aUmgH-1pRg\" data-clk-atid=\"ik50qdmJ0w8J\" href=\"https://arxiv.org/pdf/1803.06161\"><span class=\"gs_ctg2\">[PDF]</span> arxiv.org</a></div>"
      ]
     },
     "execution_count": 784,
     "metadata": {},
     "output_type": "execute_result"
    }
   ],
   "source": [
    "gsp=fr.find_all('div',{'class':'gs_or_ggsm'})[0]\n",
    "gsp"
   ]
  },
  {
   "cell_type": "code",
   "execution_count": 811,
   "metadata": {
    "collapsed": true
   },
   "outputs": [],
   "source": [
    "gya=fr.find('div', {'class':'gs_a'}) "
   ]
  },
  {
   "cell_type": "code",
   "execution_count": 812,
   "metadata": {},
   "outputs": [
    {
     "data": {
      "text/plain": [
       "<div class=\"gs_a\"><a href=\"/citations?user=g6bEUdkAAAAJ&amp;hl=en&amp;oi=sra\">E Orduña-Malea</a>, JM Ayllón, <a href=\"/citations?user=YlPd48UAAAAJ&amp;hl=en&amp;oi=sra\">A Martín-Martín</a>… - arXiv preprint arXiv …, 2014 - arxiv.org</div>"
      ]
     },
     "execution_count": 812,
     "metadata": {},
     "output_type": "execute_result"
    }
   ],
   "source": [
    "gya"
   ]
  },
  {
   "cell_type": "code",
   "execution_count": 805,
   "metadata": {},
   "outputs": [
    {
     "data": {
      "text/plain": [
       "[<a href=\"/citations?user=YlPd48UAAAAJ&amp;hl=en&amp;oi=sra\">A Martín-Martín</a>,\n",
       " <a href=\"/citations?user=6dUTpTYAAAAJ&amp;hl=en&amp;oi=sra\">R Costas</a>,\n",
       " <a href=\"/citations?user=DTRyxOUAAAAJ&amp;hl=en&amp;oi=sra\">T van Leeuwen</a>]"
      ]
     },
     "execution_count": 805,
     "metadata": {},
     "output_type": "execute_result"
    }
   ],
   "source": [
    "gya.find_all('a')"
   ]
  },
  {
   "cell_type": "code",
   "execution_count": 814,
   "metadata": {},
   "outputs": [
    {
     "data": {
      "text/plain": [
       "[<a href=\"/citations?user=g6bEUdkAAAAJ&amp;hl=en&amp;oi=sra\">E Orduña-Malea</a>,\n",
       " ', JM Ayllón, ',\n",
       " <a href=\"/citations?user=YlPd48UAAAAJ&amp;hl=en&amp;oi=sra\">A Martín-Martín</a>,\n",
       " '…\\xa0- arXiv preprint arXiv\\xa0…, 2014 - arxiv.org']"
      ]
     },
     "execution_count": 814,
     "metadata": {},
     "output_type": "execute_result"
    }
   ],
   "source": [
    "gya.contents"
   ]
  },
  {
   "cell_type": "code",
   "execution_count": 815,
   "metadata": {},
   "outputs": [
    {
     "data": {
      "text/plain": [
       "['E Orduña-Malea, JM Ayllón, A Martín-Martín',\n",
       " '\\xa0- arXiv preprint arXiv\\xa0',\n",
       " ', 2014 - arxiv.org']"
      ]
     },
     "execution_count": 815,
     "metadata": {},
     "output_type": "execute_result"
    }
   ],
   "source": [
    "gsa=fr.find('div', {'class':'gs_a'})\n",
    "gsa.text.split('…')"
   ]
  },
  {
   "cell_type": "code",
   "execution_count": 821,
   "metadata": {
    "collapsed": true
   },
   "outputs": [],
   "source": [
    "gpa=fr.find_all('div',{\"class\":\"gs_a\"})[0]"
   ]
  },
  {
   "cell_type": "code",
   "execution_count": 826,
   "metadata": {},
   "outputs": [
    {
     "data": {
      "text/plain": [
       "'E Orduña-Malea, JM Ayllón, A Martín-Martín…\\xa0- arXiv preprint arXiv\\xa0…, 2014 - arxiv.org'"
      ]
     },
     "execution_count": 826,
     "metadata": {},
     "output_type": "execute_result"
    }
   ],
   "source": [
    "gpa.text"
   ]
  },
  {
   "cell_type": "code",
   "execution_count": 843,
   "metadata": {},
   "outputs": [
    {
     "data": {
      "text/plain": [
       "2014"
      ]
     },
     "execution_count": 843,
     "metadata": {},
     "output_type": "execute_result"
    }
   ],
   "source": [
    "stryear=gpa.text.split('-')[-2].strip().split(',')[-1]\n",
    "eval(stryear)"
   ]
  },
  {
   "cell_type": "code",
   "execution_count": 937,
   "metadata": {
    "collapsed": true
   },
   "outputs": [],
   "source": [
    "if True:\n",
    "    \n",
    "    gpa=fr.find_all('div',{'class':'gs_a'})[0]\n",
    "    if gpa:\n",
    "        lpr=gpa.find_all('a',{'href':re.compile('/citations\\?user=*')})\n",
    "        prf={}\n",
    "        for pr in lpr:\n",
    "            prf[ pr.text ]=pr.attrs.get('href').split('?')[-1].split('&')[0].split('user=')[-1]\n",
    "        gsr['profiles']=prf "
   ]
  },
  {
   "cell_type": "code",
   "execution_count": 938,
   "metadata": {},
   "outputs": [
    {
     "data": {
      "text/plain": [
       "<div class=\"gs_a\"><a href=\"/citations?user=g6bEUdkAAAAJ&amp;hl=en&amp;oi=sra\">E Orduña-Malea</a>, JM Ayllón, <a href=\"/citations?user=YlPd48UAAAAJ&amp;hl=en&amp;oi=sra\">A Martín-Martín</a>… - arXiv preprint arXiv …, 2014 - arxiv.org</div>"
      ]
     },
     "execution_count": 938,
     "metadata": {},
     "output_type": "execute_result"
    }
   ],
   "source": [
    "gpa"
   ]
  },
  {
   "cell_type": "code",
   "execution_count": 1026,
   "metadata": {
    "collapsed": true
   },
   "outputs": [],
   "source": [
    "prf={}\n",
    "for pr in gpa.find_all('a'):\n",
    "    key=pr.text\n",
    "    try:\n",
    "        value=pr.get('href').split('=')[1].split('&')[0]\n",
    "    except IndexError:\n",
    "        value=''\n",
    "    prf[key]=value"
   ]
  },
  {
   "cell_type": "code",
   "execution_count": 1027,
   "metadata": {},
   "outputs": [
    {
     "data": {
      "text/plain": [
       "{'A Martín-Martín': 'YlPd48UAAAAJ', 'E Orduña-Malea': 'g6bEUdkAAAAJ'}"
      ]
     },
     "execution_count": 1027,
     "metadata": {},
     "output_type": "execute_result"
    }
   ],
   "source": [
    "prf"
   ]
  },
  {
   "cell_type": "code",
   "execution_count": 958,
   "metadata": {},
   "outputs": [
    {
     "data": {
      "text/plain": [
       "'E Orduña-Malea'"
      ]
     },
     "execution_count": 958,
     "metadata": {},
     "output_type": "execute_result"
    }
   ],
   "source": [
    "pr.text"
   ]
  },
  {
   "cell_type": "code",
   "execution_count": 933,
   "metadata": {
    "collapsed": true
   },
   "outputs": [],
   "source": [
    "kk='<div class=\"gs_a\"><a href=\"citations\">E Orduña-Malea</a>, JM Ayllón, <a href=\"/citations?user=YlPd48UAAAAJ&amp;hl=en&amp;oi=sra\">A Martín-Martín</a>… - arXiv preprint arXiv …, 2014 - arxiv.org</div>'"
   ]
  },
  {
   "cell_type": "code",
   "execution_count": 935,
   "metadata": {
    "scrolled": true
   },
   "outputs": [
    {
     "data": {
      "text/plain": [
       "<div class=\"gs_a\"><a href=\"citations\">E Orduña-Malea</a>, JM Ayllón, <a href=\"/citations?user=YlPd48UAAAAJ&amp;hl=en&amp;oi=sra\">A Martín-Martín</a>… - arXiv preprint arXiv …, 2014 - arxiv.org</div>"
      ]
     },
     "execution_count": 935,
     "metadata": {},
     "output_type": "execute_result"
    }
   ],
   "source": [
    "gpa=BeautifulSoup(kk,\"html.parser\")\n",
    "gpa"
   ]
  },
  {
   "cell_type": "code",
   "execution_count": null,
   "metadata": {
    "collapsed": true
   },
   "outputs": [],
   "source": [
    "gpa.find_all('a',{'href'"
   ]
  },
  {
   "cell_type": "markdown",
   "metadata": {},
   "source": [
    "# Temporal"
   ]
  },
  {
   "cell_type": "code",
   "execution_count": null,
   "metadata": {
    "collapsed": true
   },
   "outputs": [],
   "source": [
    "def get_google_scholar(record):\n",
    "    '''\n",
    "    Analyise the BeautifulSoup record for an article \n",
    "    in Google Scholar.\n",
    "    Output is a Python dictionary with keys: \n",
    "    'title', 'authors','profiles','Jornal','Year',\n",
    "    'abstract','cites','cites_link'\n",
    "    '''\n",
    "    import random\n",
    "    import time\n",
    "    gsr={}\n",
    "    try:\n",
    "        cites=record.find_all('a',{\"href\":re.compile( \"/scholar\\?cites*\" )})[0]\n",
    "        try:\n",
    "            gsr['cites']=int( cites.text.split()[-1] )\n",
    "            gsr['cites_link']=cites.attrs.get('href')\n",
    "        except:\n",
    "            gsr['cites']=0\n",
    "    except:\n",
    "        cites=None\n",
    "\n",
    "    # Title\n",
    "    try:\n",
    "        #The .split('XXX')[-1]  does not afect the result when .text does no contains 'XXX'\n",
    "        tc=record.find_all('h3',{\"class\":\"gs_rt\"})[0].text.split('[CITATION][C] ')[-1]\n",
    "    except:\n",
    "        tc=''\n",
    "\n",
    "    gsr['title']=tc.strip().split('[HTML][HTML] ')[-1].split(\n",
    "                                  '[PDF][PDF] '  )[-1]\n",
    "    \n",
    "    # Explore authors, google scholar profile, Journal and Year\n",
    "    gpa=None\n",
    "    try:\n",
    "        gpa=record.find_all('div',{\"class\":\"gs_a\"})[0]\n",
    "        gsr['ref']=gpa.text.strip()\n",
    "        gsr['authors']=gpa.text.split('-')[0].strip()\n",
    "        try:\n",
    "            jy=gpa.text.split('-')[1].strip()\n",
    "            gsr['Journal']=jy.split(',')[0]\n",
    "            try:\n",
    "                gsr['Year']=eval(jy.split(',')[1])\n",
    "            except:\n",
    "                gsr['Year']=-1\n",
    "        except:\n",
    "            gsr['Journal']=''\n",
    "    except:\n",
    "        gsr['authors']=''\n",
    "        gsr['ref']=''\n",
    "\n",
    "    #Abstract:\n",
    "    try:\n",
    "        gsr['abstract']=record.find_all('div',{'class':'gs_rs'})[0].text.replace('\\xa0…','')\n",
    "    except:\n",
    "        gsr['abstract']=''\n",
    "    # citations\n",
    "    if gpa:\n",
    "        lpr=gpa.find_all(\"a\",{ \"href\":re.compile(\"/citations\\?user=*\")   } )\n",
    "        prf={}\n",
    "        for pr in lpr:\n",
    "            prf[ pr.text ]=pr.attrs.get('href').split('?')[-1].split('&')[0].split('user=')[-1]\n",
    "        gsr['profiles']=prf\n",
    "    \n",
    "    time.sleep( random.randint(1,3)  ) # avoid robots\n",
    "    return gsr"
   ]
  }
 ],
 "metadata": {
  "kernelspec": {
   "display_name": "Python 3",
   "language": "python",
   "name": "python3"
  },
  "language_info": {
   "codemirror_mode": {
    "name": "ipython",
    "version": 3
   },
   "file_extension": ".py",
   "mimetype": "text/x-python",
   "name": "python",
   "nbconvert_exporter": "python",
   "pygments_lexer": "ipython3",
   "version": "3.4.2"
  }
 },
 "nbformat": 4,
 "nbformat_minor": 2
}
