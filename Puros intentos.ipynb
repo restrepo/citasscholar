{
 "cells": [
  {
   "cell_type": "markdown",
   "metadata": {},
   "source": [
    "# 1°"
   ]
  },
  {
   "cell_type": "code",
   "execution_count": 2,
   "metadata": {
    "collapsed": true
   },
   "outputs": [],
   "source": [
    "import re \n",
    "import requests\n",
    "headers_Get = {\n",
    "        'User-Agent': 'Mozilla/5.0 (Windows NT 6.1; WOW64; rv:49.0) Gecko/20100101 Firefox/49.0',\n",
    "        'Accept': 'text/html,application/xhtml+xml,application/xml;q=0.9,*/*;q=0.8',\n",
    "        'Accept-Language': 'en-US,en;q=0.5',\n",
    "        'Accept-Encoding': 'gzip, deflate',\n",
    "        'DNT': '1',\n",
    "        'Connection': 'keep-alive',\n",
    "        'Upgrade-Insecure-Requests': '1'\n",
    "    }"
   ]
  },
  {
   "cell_type": "markdown",
   "metadata": {},
   "source": [
    "# #así no me funcionó, tira todas las variables. Tiene mucha info"
   ]
  },
  {
   "cell_type": "code",
   "execution_count": 97,
   "metadata": {
    "collapsed": true
   },
   "outputs": [],
   "source": [
    "#necesitamos que si algunos de estos tres elementos están vacios entonces no se incluyan en url\n",
    "\n",
    "title=''# Evidence of Open Access of scientific publications in Google Scholar: a large-scale analysis\n",
    "author='Alberto Martín-Martín'# Alberto Martín-Martín\n",
    "doi='10.1016/J.JOI.2018.06.012' # 10.1016/J.JOI.2018.06.012\n",
    "if True:   \n",
    "    gsr={}\n",
    "    \n",
    "    s = requests.Session()\n",
    "    url=('https://scholar.google.co.in/scholar_lookup?title={}&author={}&doi={}'.format(title.replace(' ','+'),\n",
    "                                                                        author.replace(' ','+'), doi))\n",
    "    if title == '' :\n",
    "        url=('https://scholar.google.co.in/scholar_lookup?author={}&doi={}'.format(author.replace(' ','+'), doi))\n",
    "    else :\n",
    "        url=('https://scholar.google.co.in/scholar_lookup?title={}&author={}&doi={}'.format(title.replace(' ','+'),\n",
    "                                                                        author.replace(' ','+'), doi))\n",
    "    if author == '' :\n",
    "        url=('https://scholar.google.co.in/scholar_lookup?title={}&doi={}'.format(title.replace(' ','+'), doi))\n",
    "    else :\n",
    "        url=('https://scholar.google.co.in/scholar_lookup?title={}&author={}&doi={}'.format(title.replace(' ','+'),\n",
    "                                                                        author.replace(' ','+'), doi))\n",
    "    if doi == '' :\n",
    "        url=('https://scholar.google.co.in/scholar_lookup?title={}&author={}'.format(title.replace(' ','+'),\n",
    "                                                                        author.replace(' ','+')))\n",
    "    else :\n",
    "        url=('https://scholar.google.co.in/scholar_lookup?title={}&author={}&doi={}'.format(title.replace(' ','+'),\n",
    "                                                                        author.replace(' ','+'), doi))     \n",
    "    if title == '' and author == '':\n",
    "        url=('https://scholar.google.co.in/scholar_lookup?doi={}'.format(doi))\n",
    "    else :\n",
    "        url=('https://scholar.google.co.in/scholar_lookup?title={}&author={}&doi={}'.format(title.replace(' ','+'),\n",
    "                                                                        author.replace(' ','+'), doi))    \n",
    "    if author == '' and doi == '': \n",
    "        url=('https://scholar.google.co.in/scholar_lookup?title={}'.format(title.replace(' ','+')))\n",
    "    else :\n",
    "        url=('https://scholar.google.co.in/scholar_lookup?title={}&author={}&doi={}'.format(title.replace(' ','+'),\n",
    "                                                                        author.replace(' ','+'), doi))    \n",
    "    if title == '' and doi == '':\n",
    "        url=('https://scholar.google.co.in/scholar_lookup?author={}'.format(author.replace(' ','+')))\n",
    "    else :\n",
    "        url=('https://scholar.google.co.in/scholar_lookup?title={}&author={}&doi={}'.format(title.replace(' ','+'),\n",
    "                                                                        author.replace(' ','+'), doi))\n",
    "            \n",
    "        \n",
    "    r=s.get(url,headers=headers_Get)\n",
    "       \n",
    "    \n",
    "    # interpretar HTML\n",
    "    from bs4 import BeautifulSoup\n",
    "    res=BeautifulSoup(r.text,\"html.parser\")\n",
    "    \n",
    "    try:\n",
    "        fr=res.find_all('div',{'class':'gs_r gs_or gs_scl'})[0]\n",
    "    except IndexError:\n",
    "        fr=BeautifulSoup('',\"html.parser\")\n",
    "        \n",
    "    gsa=fr.find('div', {'class':\"gs_a\"})\n",
    "    \n",
    "    if gsa:\n",
    "        gsr['authors']=gsa.text.split('\\xa0-')[0]\n",
    "    else:\n",
    "        gsr['authors']=''"
   ]
  },
  {
   "cell_type": "code",
   "execution_count": 99,
   "metadata": {},
   "outputs": [
    {
     "data": {
      "text/plain": [
       "'https://scholar.google.co.in/scholar_lookup?title=&author=Alberto+Martín-Martín&doi=10.1016/J.JOI.2018.06.012'"
      ]
     },
     "execution_count": 99,
     "metadata": {},
     "output_type": "execute_result"
    }
   ],
   "source": [
    "url #así no me funcionó, a pesar de las condiciones tira todas las variables"
   ]
  },
  {
   "cell_type": "markdown",
   "metadata": {},
   "source": [
    "# #2° acá funciona bien. Las condiciones son solo para cunado falte 1 variable"
   ]
  },
  {
   "cell_type": "code",
   "execution_count": 120,
   "metadata": {
    "collapsed": true
   },
   "outputs": [],
   "source": [
    "title='Evidence of Open Access of scientific publications in Google Scholar: a large-scale analysis'# Evidence of Open Access of scientific publications in Google Scholar: a large-scale analysis\n",
    "author=''# Alberto Martín-Martín\n",
    "doi='10.1016/J.JOI.2018.06.012' # 10.1016/J.JOI.2018.06.012\n",
    "if True:   \n",
    "    gsr={}\n",
    "    \n",
    "    s = requests.Session()\n",
    "    url=('https://scholar.google.co.in/scholar_lookup?title={}&author={}&doi={}'.format(title.replace(' ','+'),\n",
    "                                                                        author.replace(' ','+'), doi))\n",
    "    if title == '' :\n",
    "        url=('https://scholar.google.co.in/scholar_lookup?author={}&doi={}'.format(author.replace(' ','+'), doi))\n",
    "\n",
    "    if author == '' :\n",
    "        url=('https://scholar.google.co.in/scholar_lookup?title={}&doi={}'.format(title.replace(' ','+'), doi))\n",
    "\n",
    "    if doi == '' :\n",
    "        url=('https://scholar.google.co.in/scholar_lookup?title={}&author={}'.format(title.replace(' ','+'),\n",
    "                                                                        author.replace(' ','+')))\n",
    "        \n",
    "    r=s.get(url,headers=headers_Get)\n",
    "       \n",
    "    \n",
    "    # interpretar HTML\n",
    "    from bs4 import BeautifulSoup\n",
    "    res=BeautifulSoup(r.text,\"html.parser\")\n",
    "    \n",
    "    try:\n",
    "        fr=res.find_all('div',{'class':'gs_r gs_or gs_scl'})[0]\n",
    "    except IndexError:\n",
    "        fr=BeautifulSoup('',\"html.parser\")\n",
    "        \n",
    "    gsa=fr.find('div', {'class':\"gs_a\"})\n",
    "    \n",
    "    if gsa:\n",
    "        gsr['authors']=gsa.text.split('\\xa0-')[0]\n",
    "    else:\n",
    "        gsr['authors']=''"
   ]
  },
  {
   "cell_type": "code",
   "execution_count": 121,
   "metadata": {},
   "outputs": [
    {
     "data": {
      "text/plain": [
       "'https://scholar.google.co.in/scholar_lookup?title=Evidence+of+Open+Access+of+scientific+publications+in+Google+Scholar:+a+large-scale+analysis&doi=10.1016/J.JOI.2018.06.012'"
      ]
     },
     "execution_count": 121,
     "metadata": {},
     "output_type": "execute_result"
    }
   ],
   "source": [
    "url #acá funciona bien. Las condiciones son solo para cunado flate 1 variable"
   ]
  },
  {
   "cell_type": "markdown",
   "metadata": {},
   "source": [
    "# # Más combinaciones con las variables"
   ]
  },
  {
   "cell_type": "code",
   "execution_count": 133,
   "metadata": {
    "collapsed": true
   },
   "outputs": [],
   "source": [
    "title=''# Evidence of Open Access of scientific publications in Google Scholar: a large-scale analysis\n",
    "author='Alberto Martín-Martín'# Alberto Martín-Martín\n",
    "doi='10.1016/J.JOI.2018.06.012' # 10.1016/J.JOI.2018.06.012\n",
    "if True:   \n",
    "    gsr={}\n",
    "    \n",
    "    s = requests.Session()\n",
    "    url=('https://scholar.google.co.in/scholar_lookup?title={}&author={}&doi={}'.format(title.replace(' ','+'),\n",
    "                                                                        author.replace(' ','+'), doi))\n",
    "    if title == '' :\n",
    "        url=('https://scholar.google.co.in/scholar_lookup?author={}&doi={}'.format(author.replace(' ','+'), doi))\n",
    "\n",
    "    if author == '' :\n",
    "        url=('https://scholar.google.co.in/scholar_lookup?title={}&doi={}'.format(title.replace(' ','+'), doi))\n",
    "\n",
    "    if doi == '' :\n",
    "        url=('https://scholar.google.co.in/scholar_lookup?title={}&author={}'.format(title.replace(' ','+'),\n",
    "                                                                        author.replace(' ','+')))\n",
    "    if author == '' and doi == '' :\n",
    "        url=('https://scholar.google.co.in/scholar_lookup?title={}'.format(title.replace(' ','+')))\n",
    "    if doi == '' and title == '' :\n",
    "        url=('https://scholar.google.co.in/scholar_lookup?author={}'.format(author.replace(' ','+')))\n",
    "    if title == '' and author == '' :\n",
    "        url=('https://scholar.google.co.in/scholar_lookup?doi={}'.format(doi))\n",
    "        \n",
    "    r=s.get(url,headers=headers_Get)\n",
    "       \n",
    "    \n",
    "    # interpretar HTML\n",
    "    from bs4 import BeautifulSoup\n",
    "    res=BeautifulSoup(r.text,\"html.parser\")\n",
    "    \n",
    "    try:\n",
    "        fr=res.find_all('div',{'class':'gs_r gs_or gs_scl'})[0]\n",
    "    except IndexError:\n",
    "        fr=BeautifulSoup('',\"html.parser\")\n",
    "        \n",
    "    gsa=fr.find('div', {'class':\"gs_a\"})\n",
    "    \n",
    "    if gsa:\n",
    "        gsr['authors']=gsa.text.split('\\xa0-')[0]\n",
    "    else:\n",
    "        gsr['authors']=''"
   ]
  },
  {
   "cell_type": "code",
   "execution_count": 135,
   "metadata": {},
   "outputs": [
    {
     "data": {
      "text/plain": [
       "'https://scholar.google.co.in/scholar_lookup?author=Alberto+Martín-Martín&doi=10.1016/J.JOI.2018.06.012'"
      ]
     },
     "execution_count": 135,
     "metadata": {},
     "output_type": "execute_result"
    }
   ],
   "source": [
    "url #ESTE ESTÁ COMPLETO :) :) :)"
   ]
  },
  {
   "cell_type": "code",
   "execution_count": 164,
   "metadata": {},
   "outputs": [],
   "source": [
    "title=''# Evidence of Open Access of scientific publications in Google Scholar: a large-scale analysis\n",
    "author=''# Alberto Martín-Martín\n",
    "doi='10.1016/J.JOI.2018.06.012' # 10.1016/J.JOI.2018.06.012\n",
    "#coauthors=#[]\n",
    "if True:   \n",
    "    gsr={}\n",
    "    \n",
    "    s = requests.Session()\n",
    "    url='https://scholar.google.co.in/scholar_lookup?'\n",
    "    \n",
    "    nl=0\n",
    "    if title != '':\n",
    "        nl=nl+1\n",
    "        url= url+'title={}'.format(title.replace(' ','+'))\n",
    "    if author != '':\n",
    "        if nl: url= url+'&'\n",
    "        nl=nl+1\n",
    "        url= url+'author={}'.format(author.replace(' ','+'))\n",
    "    if doi != '':\n",
    "        if nl: url= url+'&'\n",
    "        nl=nl+1\n",
    "        url= url+'doi={}'.format(doi)\n",
    "            \n",
    "         \n",
    "           \n",
    "    r=s.get(url,headers=headers_Get)\n",
    "       \n",
    "    \n",
    "    # interpretar HTML\n",
    "    from bs4 import BeautifulSoup\n",
    "    res=BeautifulSoup(r.text,\"html.parser\")\n",
    "    \n",
    "    try:\n",
    "        fr=res.find_all('div',{'class':'gs_r gs_or gs_scl'})[0]\n",
    "    except IndexError:\n",
    "        fr=BeautifulSoup('',\"html.parser\")\n",
    "        \n",
    "    gsa=fr.find('div', {'class':\"gs_a\"})\n",
    "    \n",
    "    if gsa:\n",
    "        gsr['authors']=gsa.text.split('\\xa0-')[0]\n",
    "    else:\n",
    "        gsr['authors']=''"
   ]
  },
  {
   "cell_type": "code",
   "execution_count": 165,
   "metadata": {},
   "outputs": [
    {
     "data": {
      "text/plain": [
       "'https://scholar.google.co.in/scholar_lookup?doi=10.1016/J.JOI.2018.06.012'"
      ]
     },
     "execution_count": 165,
     "metadata": {},
     "output_type": "execute_result"
    }
   ],
   "source": [
    "url"
   ]
  },
  {
   "cell_type": "code",
   "execution_count": null,
   "metadata": {
    "collapsed": true
   },
   "outputs": [],
   "source": [
    "    url='https://scholar.google.co.in/scholar_lookup"
   ]
  },
  {
   "cell_type": "markdown",
   "metadata": {
    "collapsed": true
   },
   "source": [
    "añadir coautores, campos que faltan, crear la función"
   ]
  }
 ],
 "metadata": {
  "kernelspec": {
   "display_name": "Python 3",
   "language": "python",
   "name": "python3"
  },
  "language_info": {
   "codemirror_mode": {
    "name": "ipython",
    "version": 3
   },
   "file_extension": ".py",
   "mimetype": "text/x-python",
   "name": "python",
   "nbconvert_exporter": "python",
   "pygments_lexer": "ipython3",
   "version": "3.4.2"
  }
 },
 "nbformat": 4,
 "nbformat_minor": 2
}
