{
 "cells": [
  {
   "cell_type": "markdown",
   "metadata": {},
   "source": [
    "# 1°"
   ]
  },
  {
   "cell_type": "code",
   "execution_count": 115,
   "metadata": {
    "collapsed": true
   },
   "outputs": [],
   "source": [
    "import re \n",
    "import requests\n",
    "headers_Get = {\n",
    "        'User-Agent': 'Mozilla/5.0 (Windows NT 6.1; WOW64; rv:49.0) Gecko/20100101 Firefox/49.0',\n",
    "        'Accept': 'text/html,application/xhtml+xml,application/xml;q=0.9,*/*;q=0.8',\n",
    "        'Accept-Language': 'en-US,en;q=0.5',\n",
    "        'Accept-Encoding': 'gzip, deflate',\n",
    "        'DNT': '1',\n",
    "        'Connection': 'keep-alive',\n",
    "        'Upgrade-Insecure-Requests': '1'\n",
    "    }"
   ]
  },
  {
   "cell_type": "markdown",
   "metadata": {},
   "source": [
    "Ejemplo de búsqueda:"
   ]
  },
  {
   "cell_type": "code",
   "execution_count": 285,
   "metadata": {
    "collapsed": true
   },
   "outputs": [],
   "source": [
    "title='Evidence of Open Access of scientific publications in Google Scholar: a large-scale analysis'# Evidence of Open Access of scientific publications in Google Scholar: a large-scale analysis\n",
    "author='Alberto Martín-Martín'# Alberto Martín-Martín\n",
    "coauthors=['R Costas', 'T van Leeuwen']\n",
    "doi='10.1016/J.JOI.2018.06.012'\n",
    "year='2006'\n",
    "publisher='Oxford University Press'\n",
    "journal=''\n",
    "volume=''\n",
    "issue=''\n",
    "pages=''"
   ]
  },
  {
   "cell_type": "markdown",
   "metadata": {},
   "source": [
    "TAREA: Implementar\n",
    "* title,\n",
    "* cites number\n",
    "* link al PDF\n",
    "* Journal \n",
    "* Year\n",
    "* abstract\n",
    "* Perfil de Google scholar para los autores"
   ]
  },
  {
   "cell_type": "markdown",
   "metadata": {},
   "source": [
    "## Tutorial\n",
    "### `try` en Python\n",
    "En Python se puede progamar usando los errores, para ello si algo es propenso a errores, se puede \"intentar\" ejecutar el comando peligroso, no directamente sino con un `try`.\n",
    "\n",
    "El `try` tiene la siguiente estructura:\n",
    "\n",
    "```python\n",
    "try:\n",
    "   código peligroso\n",
    "except:\n",
    "    codigo a ejecutar en caso de fallo\n",
    "```\n",
    "Para hacer la excepción más específica, se puede usara el tipo de error generado: letras en rojo en el mensaje de error, \n",
    "por ejemplo <font color='red'>IndexError</font>, en tal caso se usa\n",
    "\n",
    "```python\n",
    "try:\n",
    "   código peligroso\n",
    "except IndexError:\n",
    "    codigo a ejecutar en caso de que el error sea IndexError. \n",
    "```\n",
    "Para otro tipo de error el programa se detiene con el nuevo mensaje de error.\n",
    "\n",
    "Ejemplo:\n",
    "\n",
    "Primero el error convencional, para ilustrar que el programa detiene su ejecución: no muestra 'voy aqui 2'"
   ]
  },
  {
   "cell_type": "code",
   "execution_count": 321,
   "metadata": {},
   "outputs": [
    {
     "name": "stdout",
     "output_type": "stream",
     "text": [
      "voy aqui 1\n"
     ]
    },
    {
     "ename": "IndexError",
     "evalue": "list index out of range",
     "output_type": "error",
     "traceback": [
      "\u001b[0;31m---------------------------------------------------------------------------\u001b[0m",
      "\u001b[0;31mIndexError\u001b[0m                                Traceback (most recent call last)",
      "\u001b[0;32m<ipython-input-321-3385e031de86>\u001b[0m in \u001b[0;36m<module>\u001b[0;34m()\u001b[0m\n\u001b[1;32m      1\u001b[0m \u001b[0mprint\u001b[0m\u001b[0;34m(\u001b[0m\u001b[0;34m'voy aqui 1'\u001b[0m\u001b[0;34m)\u001b[0m\u001b[0;34m\u001b[0m\u001b[0m\n\u001b[0;32m----> 2\u001b[0;31m \u001b[0mres\u001b[0m\u001b[0;34m.\u001b[0m\u001b[0mfind_all\u001b[0m\u001b[0;34m(\u001b[0m\u001b[0;34m'div'\u001b[0m\u001b[0;34m,\u001b[0m\u001b[0;34m{\u001b[0m\u001b[0;34m'class'\u001b[0m\u001b[0;34m:\u001b[0m\u001b[0;34m'gs_rxxx gs_or gs_scl'\u001b[0m\u001b[0;34m}\u001b[0m\u001b[0;34m)\u001b[0m\u001b[0;34m[\u001b[0m\u001b[0;36m0\u001b[0m\u001b[0;34m]\u001b[0m\u001b[0;34m\u001b[0m\u001b[0m\n\u001b[0m\u001b[1;32m      3\u001b[0m \u001b[0mprint\u001b[0m\u001b[0;34m(\u001b[0m\u001b[0;34m'voy aqui 2'\u001b[0m\u001b[0;34m)\u001b[0m\u001b[0;34m\u001b[0m\u001b[0m\n",
      "\u001b[0;31mIndexError\u001b[0m: list index out of range"
     ]
    }
   ],
   "source": [
    "print('voy aqui 1')\n",
    "res.find_all('div',{'class':'gs_rxxx gs_or gs_scl'})[0]\n",
    "print('voy aqui 2')"
   ]
  },
  {
   "cell_type": "markdown",
   "metadata": {},
   "source": [
    "Implementación de una excepción génerica"
   ]
  },
  {
   "cell_type": "code",
   "execution_count": 324,
   "metadata": {},
   "outputs": [
    {
     "name": "stdout",
     "output_type": "stream",
     "text": [
      "voy aqui 1\n",
      "voy aqui 1.1\n",
      "voy aqui 2\n"
     ]
    }
   ],
   "source": [
    "print('voy aqui 1')\n",
    "try:#al imprimir url sale coauthors aún estando vacio  \n",
    "import random\n",
    "import time\n",
    "\n",
    "\n",
    "\n",
    "    res.find_all('div',{'class':'gs_rxxx gs_or gs_scl'})[0]\n",
    "except:\n",
    "    print('voy aqui 1.1')\n",
    "    \n",
    "print('voy aqui 2')"
   ]
  },
  {
   "cell_type": "markdown",
   "metadata": {},
   "source": [
    "Si no se captura el error correcto, el programa se vuelve a detener"
   ]
  },
  {
   "cell_type": "code",
   "execution_count": 328,
   "metadata": {},
   "outputs": [
    {
     "ename": "ValueError",
     "evalue": "could not convert string to float: 'a'",
     "output_type": "error",
     "traceback": [
      "\u001b[0;31m---------------------------------------------------------------------------\u001b[0m",
      "\u001b[0;31mValueError\u001b[0m                                Traceback (most recent call last)",
      "\u001b[0;32m<ipython-input-328-99859da4e72c>\u001b[0m in \u001b[0;36m<module>\u001b[0;34m()\u001b[0m\n\u001b[0;32m----> 1\u001b[0;31m \u001b[0mfloat\u001b[0m\u001b[0;34m(\u001b[0m\u001b[0;34m'a'\u001b[0m\u001b[0;34m)\u001b[0m\u001b[0;34m\u001b[0m\u001b[0m\n\u001b[0m",
      "\u001b[0;31mValueError\u001b[0m: could not convert string to float: 'a'"
     ]
    }
   ],
   "source": [
    "float('a')"
   ]
  },
  {
   "cell_type": "code",
   "execution_count": 329,
   "metadata": {},
   "outputs": [
    {
     "name": "stdout",
     "output_type": "stream",
     "text": [
      "voy aqui 1\n"
     ]
    },
    {
     "ename": "IndexError",
     "evalue": "list index out of range",
     "output_type": "error",
     "traceback": [
      "\u001b[0;31m---------------------------------------------------------------------------\u001b[0m",
      "\u001b[0;31mIndexError\u001b[0m                                Traceback (most recent call last)",
      "\u001b[0;32m<ipython-input-329-fbf088b932c0>\u001b[0m in \u001b[0;36m<module>\u001b[0;34m()\u001b[0m\n\u001b[1;32m      1\u001b[0m \u001b[0mprint\u001b[0m\u001b[0;34m(\u001b[0m\u001b[0;34m'voy aqui 1'\u001b[0m\u001b[0;34m)\u001b[0m\u001b[0;34m\u001b[0m\u001b[0m\n\u001b[1;32m      2\u001b[0m \u001b[0;32mtry\u001b[0m\u001b[0;34m:\u001b[0m\u001b[0;34m\u001b[0m\u001b[0m\n\u001b[0;32m----> 3\u001b[0;31m     \u001b[0mres\u001b[0m\u001b[0;34m.\u001b[0m\u001b[0mfind_all\u001b[0m\u001b[0;34m(\u001b[0m\u001b[0;34m'div'\u001b[0m\u001b[0;34m,\u001b[0m\u001b[0;34m{\u001b[0m\u001b[0;34m'class'\u001b[0m\u001b[0;34m:\u001b[0m\u001b[0;34m'gs_rxxx gs_or gs_scl'\u001b[0m\u001b[0;34m}\u001b[0m\u001b[0;34m)\u001b[0m\u001b[0;34m[\u001b[0m\u001b[0;36m0\u001b[0m\u001b[0;34m]\u001b[0m\u001b[0;34m\u001b[0m\u001b[0m\n\u001b[0m\u001b[1;32m      4\u001b[0m \u001b[0;32mexcept\u001b[0m \u001b[0mValueError\u001b[0m\u001b[0;34m:\u001b[0m\u001b[0;34m\u001b[0m\u001b[0m\n\u001b[1;32m      5\u001b[0m     \u001b[0mprint\u001b[0m\u001b[0;34m(\u001b[0m\u001b[0;34m'voy aqui 1.1'\u001b[0m\u001b[0;34m)\u001b[0m\u001b[0;34m\u001b[0m\u001b[0m\n",
      "\u001b[0;31mIndexError\u001b[0m: list index out of range"
     ]
    }
   ],
   "source": [
    "print('voy aqui 1')\n",
    "try:\n",
    "    res.find_all('div',{'class':'gs_rxxx gs_or gs_scl'})[0]\n",
    "except ValueError:\n",
    "    print('voy aqui 1.1')\n",
    "    \n",
    "print('voy aqui 2')"
   ]
  },
  {
   "cell_type": "markdown",
   "metadata": {},
   "source": [
    "La forma recomenda es usar el `except` acompañado del tipo de error que se espera si el programa falla, en este caso <font color='red'>IndexError</font>:"
   ]
  },
  {
   "cell_type": "code",
   "execution_count": 330,
   "metadata": {
    "scrolled": true
   },
   "outputs": [
    {
     "name": "stdout",
     "output_type": "stream",
     "text": [
      "voy aqui 1\n",
      "voy aqui 1.1\n",
      "voy aqui 2\n"
     ]
    }
   ],
   "source": [
    "print('voy aqui 1')\n",
    "try:\n",
    "    res.find_all('div',{'class':'gs_rxxx gs_or gs_scl'})[0]\n",
    "except IndexError:\n",
    "    print('voy aqui 1.1')\n",
    "    \n",
    "print('voy aqui 2')"
   ]
  },
  {
   "cell_type": "markdown",
   "metadata": {},
   "source": [
    "### Procesar el HTML\n",
    "Los pasos son:\n",
    "* Importar la función para procesar el HTML:\n",
    "```\n",
    "from IPython.display import HTML\n",
    "```\n",
    "Y en cualquier celda, usar `HTML('string en HTML')`"
   ]
  },
  {
   "cell_type": "code",
   "execution_count": 338,
   "metadata": {
    "collapsed": true
   },
   "outputs": [],
   "source": [
    "from IPython.display import HTML"
   ]
  },
  {
   "cell_type": "code",
   "execution_count": 354,
   "metadata": {},
   "outputs": [],
   "source": [
    "# Implementar aquí\n",
    "def getmetadatos(res):\n",
    "    gsr={}\n",
    "    try:\n",
    "        fr=res.find_all('div',{'class':'gs_r gs_or gs_scl'})[0]\n",
    "    except IndexError:\n",
    "        fr=BeautifulSoup('',\"html.parser\")\n",
    "        \n",
    "    gsa=fr.find('div', {'class':\"gs_a\"}) #¿CÓMO SE RESUELVE ACÁ CON LOS COAUTHORS?\n",
    "    \n",
    "    if gsa:\n",
    "        gsr['authors']=gsa.text.split('\\xa0-')[0]\n",
    "    else:\n",
    "        gsr['authors']=''\n",
    "    return gsr\n",
    "   \n",
    "def googlescholar(title='', author='', coauthors=[], doi='', year=0, publisher='',\n",
    "                  journal='', volume='', issue='', pages=0, DEBUG=False ):\n",
    "    '''\n",
    "    DEBUG: return full web page\n",
    "    '''\n",
    "    import sys\n",
    "    gsr={}\n",
    "    \n",
    "    s = requests.Session()\n",
    "    url='https://scholar.google.co.in/scholar_lookup?'\n",
    "    \n",
    "    nl=0\n",
    "    if title:\n",
    "        nl=nl+1\n",
    "        url= url+'title={}'.format(title.replace(' ','+'))\n",
    "    if author:\n",
    "        if nl: url= url+'&'\n",
    "        nl=nl+1\n",
    "        url= url+'author={}'.format(author.replace(' ','+'))\n",
    "    if doi:\n",
    "        if nl: url= url+'&'\n",
    "        nl=nl+1    \n",
    "        url= url+'doi={}'.format(doi)\n",
    "    if year:\n",
    "        if nl: url= url+'&'\n",
    "        nl=nl+1\n",
    "        url= url+'year={}'.format(year)\n",
    "    if publisher:\n",
    "        if nl: url= url+'&'\n",
    "        nl=nl+1\n",
    "        url= url+'publisher={}'.format(publisher.replace(' ','+'))\n",
    "    if journal:\n",
    "        if nl: url= url+'&'\n",
    "        nl=nl+1     \n",
    "        url= url+'journal={}'.format(journal.replace(' ','+'))\n",
    "    if volume:\n",
    "        if nl: url= url+'&'\n",
    "        nl=nl+1\n",
    "        url= url+'volume={}'.format(volume)\n",
    "    if issue:\n",
    "        if nl: url= url+'&'\n",
    "        nl=nl+1\n",
    "        url= url+'issue={}'.format(issue)   \n",
    "    if pages:\n",
    "        if nl: url= url+'&'\n",
    "        nl=nl+1\n",
    "        url= url+'pages={}'.format(pages)\n",
    "    if coauthors:\n",
    "        for i in coauthors :\n",
    "            if nl: url= url+'&'\n",
    "            nl=nl+1\n",
    "            url= url+'author={}'.format(i.replace(' ','+'))        \n",
    " \n",
    "            \n",
    "    r=s.get(url,headers=headers_Get)\n",
    "    #print(url)\n",
    "       \n",
    "    \n",
    "    # interpretar HTML\n",
    "    from bs4 import BeautifulSoup\n",
    "    res=BeautifulSoup(r.text,\"html.parser\")\n",
    "   \n",
    "    gsr=getmetadatos(res)\n",
    "    \n",
    "    try:\n",
    "        fr=res.find_all('div',{'class':'gs_r gs_or gs_scl'})[0]\n",
    "    except IndexError:\n",
    "        fr=BeautifulSoup('',\"html.parser\")\n",
    "        \n",
    "    if not DEBUG:\n",
    "        return gsr \n",
    "    else:\n",
    "        return res,url"
   ]
  },
  {
   "cell_type": "markdown",
   "metadata": {},
   "source": [
    "Construir aquí.\n",
    "\n",
    "Para construir se comenta el `def` y el `return`, se añade un `if True:`\n",
    "\n",
    "Vamos a usar el resultado siguiente:"
   ]
  },
  {
   "cell_type": "code",
   "execution_count": 355,
   "metadata": {},
   "outputs": [],
   "source": [
    "res,url=googlescholar(title='Evidence of Open Access of scientific publications in Google Scholar: a large-scale analysis',\n",
    "    author='Alberto Martín-Martín',coauthors=['R Costas', 'T van Leeuwen'],doi='10.1016/J.JOI.2018.06.012',\n",
    "    year='2006',publisher='Oxford University Press',DEBUG=True)"
   ]
  },
  {
   "cell_type": "code",
   "execution_count": 375,
   "metadata": {},
   "outputs": [],
   "source": [
    "#def getmetadatos(res):\n",
    "if True:\n",
    "    gsr={}\n",
    "    try:\n",
    "        fr=res.find_all('div',{'class':'gs_r gs_or gs_scl'})[0]\n",
    "    except IndexError:\n",
    "        fr=BeautifulSoup('',\"html.parser\")\n",
    "        \n",
    "    gsa=fr.find('div', {'class':\"gs_a\"}) \n",
    "    if gsa:\n",
    "        gsr['authors']=gsa.text.split('\\xa0-')[0]\n",
    "    else:\n",
    "        gsr['authors']=''\n",
    "    \n",
    "    gsp=fr.find_all('div',{'class':'gs_or_ggsm'})[0]\n",
    "    gspd=gsp.find_all('a')[0]['href']\n",
    "        "
   ]
  },
  {
   "cell_type": "code",
   "execution_count": 376,
   "metadata": {},
   "outputs": [
    {
     "data": {
      "text/plain": [
       "'https://arxiv.org/pdf/1803.06161'"
      ]
     },
     "execution_count": 376,
     "metadata": {},
     "output_type": "execute_result"
    }
   ],
   "source": [
    "gspd"
   ]
  },
  {
   "cell_type": "code",
   "execution_count": 374,
   "metadata": {},
   "outputs": [
    {
     "data": {
      "text/plain": [
       "'https://arxiv.org/pdf/1803.06161'"
      ]
     },
     "execution_count": 374,
     "metadata": {},
     "output_type": "execute_result"
    }
   ],
   "source": [
    "x['href']"
   ]
  },
  {
   "cell_type": "code",
   "execution_count": 357,
   "metadata": {},
   "outputs": [
    {
     "data": {
      "text/html": [
       "<div class=\"gs_r gs_or gs_scl\" data-cid=\"ik50qdmJ0w8J\" data-did=\"ik50qdmJ0w8J\" data-lid=\"\" data-rp=\"0\"><div class=\"gs_ggs gs_fl\"><div class=\"gs_ggsd\"><div class=\"gs_or_ggsm\" ontouchstart=\"gs_evt_dsp(event)\" tabindex=\"-1\"><a data-clk=\"hl=en&amp;sa=T&amp;oi=gga&amp;ct=gga&amp;cd=0&amp;d=1140406698598747786&amp;ei=ZhZ4XPeEIJG0mgGy4a-wDg\" data-clk-atid=\"ik50qdmJ0w8J\" href=\"https://arxiv.org/pdf/1803.06161\"><span class=\"gs_ctg2\">[PDF]</span> arxiv.org</a></div></div></div><div class=\"gs_ri\"><h3 class=\"gs_rt\" ontouchstart=\"gs_evt_dsp(event)\"><a data-clk=\"hl=en&amp;sa=T&amp;ct=res&amp;cd=0&amp;d=1140406698598747786&amp;ei=ZhZ4XPeEIJG0mgGy4a-wDg\" data-clk-atid=\"ik50qdmJ0w8J\" href=\"https://www.sciencedirect.com/science/article/pii/S1751157718301457\" id=\"ik50qdmJ0w8J\">Evidence of Open Access of scientific publications in Google Scholar: a large-scale analysis</a></h3><div class=\"gs_a\"><a href=\"/citations?user=YlPd48UAAAAJ&amp;hl=en&amp;oi=sra\">A Martín-Martín</a>, <a href=\"/citations?user=6dUTpTYAAAAJ&amp;hl=en&amp;oi=sra\">R Costas</a>, <a href=\"/citations?user=DTRyxOUAAAAJ&amp;hl=en&amp;oi=sra\">T van Leeuwen</a>… - Journal of …, 2018 - Elsevier</div><div class=\"gs_rs\">Abstract This article uses Google Scholar (GS) as a source of data to analyse Open Access <br/>(OA) levels across all countries and fields of research. All articles and reviews with a DOI <br/>and published in 2009 or 2014 and covered by the three main citation indexes in the Web of <br/>Science (2,269,022 documents) were selected for study. The links to freely available <br/>versions of these documents displayed in GS were collected. To differentiate between more <br/>reliable (sustainable and legal) forms of access and less reliable ones, the data extracted …</div><div class=\"gs_fl\"><a class=\"gs_or_sav\" href=\"javascript:void(0)\" role=\"button\" title=\"Save\"><svg class=\"gs_or_svg\" viewbox=\"-1 0 17 16\"><path d=\"M8 11.57l3.824 2.308-1.015-4.35 3.379-2.926-4.45-.378L8 2.122 6.261 6.224l-4.449.378 3.379 2.926-1.015 4.35z\"></path></svg></a> <a aria-controls=\"gs_cit\" aria-haspopup=\"true\" class=\"gs_or_cit gs_nph\" href=\"javascript:void(0)\" role=\"button\" title=\"Cite\"><svg class=\"gs_or_svg\" viewbox=\"-1 0 17 16\"><path d=\"M1.5 3.5v5h2v.375L1.75 12.5h3L6.5 8.875V3.5zM9.5 3.5v5h2v.375L9.75 12.5h3L14.5 8.875V3.5z\"></path></svg></a> <a href=\"/scholar?cites=1140406698598747786&amp;as_sdt=2005&amp;sciodt=0,5&amp;hl=en\">Cited by 15</a> <a href=\"/scholar?q=related:ik50qdmJ0w8J:scholar.google.com/&amp;scioq=&amp;hl=en&amp;as_sdt=0,5\">Related articles</a> <a class=\"gs_nph\" href=\"/scholar?cluster=1140406698598747786&amp;hl=en&amp;as_sdt=0,5\">All 12 versions</a> <a class=\"gs_or_mor gs_oph\" href=\"javascript:void(0)\" role=\"button\" title=\"More\"><svg class=\"gs_or_svg\" viewbox=\"-1 0 17 16\"><path d=\"M1.5 5.5l2-2L8 8l-4.5 4.5-2-2L4 8zM8.5 5.5l2-2L15 8l-4.5 4.5-2-2L11 8z\"></path></svg></a> <a class=\"gs_or_nvi gs_or_mor\" href=\"javascript:void(0)\" role=\"button\" title=\"Fewer\"><svg class=\"gs_or_svg\" viewbox=\"0 0 17 16\"><path d=\"M8.5 5.5l-2-2L2 8l4.5 4.5 2-2L6 8zM15.5 5.5l-2-2L9 8l4.5 4.5 2-2L13 8z\"></path></svg></a></div></div></div>"
      ],
      "text/plain": [
       "<IPython.core.display.HTML object>"
      ]
     },
     "execution_count": 357,
     "metadata": {},
     "output_type": "execute_result"
    }
   ],
   "source": [
    "HTML( str(fr) )"
   ]
  },
  {
   "cell_type": "code",
   "execution_count": 358,
   "metadata": {},
   "outputs": [
    {
     "data": {
      "text/plain": [
       "'https://scholar.google.co.in/scholar_lookup?title=Evidence+of+Open+Access+of+scientific+publications+in+Google+Scholar:+a+large-scale+analysis&author=Alberto+Martín-Martín&doi=10.1016/J.JOI.2018.06.012&year=2006&publisher=Oxford+University+Press&author=R+Costas&author=T+van+Leeuwen'"
      ]
     },
     "execution_count": 358,
     "metadata": {},
     "output_type": "execute_result"
    }
   ],
   "source": [
    "url"
   ]
  },
  {
   "cell_type": "code",
   "execution_count": 360,
   "metadata": {},
   "outputs": [
    {
     "ename": "IndentationError",
     "evalue": "unexpected indent (<ipython-input-360-020aa1c2282f>, line 2)",
     "output_type": "error",
     "traceback": [
      "\u001b[0;36m  File \u001b[0;32m\"<ipython-input-360-020aa1c2282f>\"\u001b[0;36m, line \u001b[0;32m2\u001b[0m\n\u001b[0;31m    gsa=fr.find('div', {'class':\"gs_a\"})\u001b[0m\n\u001b[0m    ^\u001b[0m\n\u001b[0;31mIndentationError\u001b[0m\u001b[0;31m:\u001b[0m unexpected indent\n"
     ]
    }
   ],
   "source": [
    "#para autor  \n",
    "    gsa=fr.find('div', {'class':\"gs_a\"}) \n",
    "    if gsa:\n",
    "        gsr['authors']=gsa.text.split('\\xa0-')[0]\n",
    "    else:\n",
    "        gsr['authors']=''\n",
    "        \n",
    "#para título    \n",
    "    gst=fr.find('h3',{'class':'gs_rt'})\n",
    "    if gst:\n",
    "        gsr['titulo']=gst.find_all('a')[0].text\n",
    "    else:\n",
    "        gsr['titulo']=''\n",
    "\n",
    "#para link pdf\n",
    "    gsp=fr.find_all('div',{'class':'gs_or_ggsm'})\n",
    "    gspd=gsp.find_all('a',{\"href\"})\n",
    "        \n",
    "#para link de citas            \n",
    "    gsc=fr.find_all('div',{'class':'gs_fl'})[1]\n",
    "    if gsc:\n",
    "        gscc=gsc.find_all('a', {\"href\":re.compile('/scholar\\?cites.*')})[0]\n",
    "        gsr['citas']int( cites.text.split()[-1] )\n",
    "        gsr['cites_link']=cites.attrs.get('href')\n",
    "        \n",
    "#Journal\n",
    "#Year\n",
    "#abstract\n",
    "#Perfil de Google scholar para los autores\n",
    "    #return gsr\n",
    "\n",
    "    \n"
   ]
  },
  {
   "cell_type": "code",
   "execution_count": 305,
   "metadata": {},
   "outputs": [
    {
     "data": {
      "text/plain": [
       "'https://scholar.google.co.in/scholar_lookup?title=Evidence+of+Open+Access+of+scientific+publications+in+Google+Scholar:+a+large-scale+analysis&author=Alberto+Martín-Martín&coauthors='"
      ]
     },
     "execution_count": 305,
     "metadata": {},
     "output_type": "execute_result"
    }
   ],
   "source": [
    "url"
   ]
  },
  {
   "cell_type": "code",
   "execution_count": 278,
   "metadata": {
    "collapsed": true
   },
   "outputs": [],
   "source": [
    "title='Evidence of Open Access of scientific publications in Google Scholar: a large-scale analysis'# Evidence of Open Access of scientific publications in Google Scholar: a large-scale analysis\n",
    "author='Alberto Martín-Martín'# Alberto Martín-Martín\n",
    "coauthors=[''] #'\n",
    "doi='' # 10.1016/J.JOI.2018.06.012\n",
    "year=''\n",
    "publisher='' #Oxford University Press\n",
    "journal=''\n",
    "volume=''\n",
    "issue=''\n",
    "pages=''\n",
    "hl=''"
   ]
  },
  {
   "cell_type": "code",
   "execution_count": null,
   "metadata": {
    "collapsed": true
   },
   "outputs": [],
   "source": [
    "title='', author='', coauthors=[''], doi='', year='', publisher='', journal='', volume='', issue='', pages='', hl=''"
   ]
  },
  {
   "cell_type": "markdown",
   "metadata": {},
   "source": [
    "# Temnporal\n",
    "res → record"
   ]
  },
  {
   "cell_type": "code",
   "execution_count": null,
   "metadata": {
    "collapsed": true
   },
   "outputs": [],
   "source": [
    "def get_google_scholar(record):\n",
    "    '''\n",
    "    Analyise the BeautifulSoup record for an article \n",
    "    in Google Scholar.\n",
    "    Output is a Python dictionary with keys: \n",
    "    'title', 'authors','profiles','Jornal','Year',\n",
    "    'abstract','cites','cites_link'\n",
    "    '''\n",
    "    import random\n",
    "    import time\n",
    "    gsr={}\n",
    "    try:\n",
    "        cites=record.find_all('a',{\"href\":re.compile( \"/scholar\\?cites*\" )})[0]\n",
    "        try:\n",
    "            gsr['cites']=int( cites.text.split()[-1] )\n",
    "            gsr['cites_link']=cites.attrs.get('href')\n",
    "        except:\n",
    "            gsr['cites']=0\n",
    "    except:\n",
    "        cites=None\n",
    "\n",
    "    # Title\n",
    "    try:\n",
    "        #The .split('XXX')[-1]  does not afect the result when .text does no contains 'XXX'\n",
    "        tc=record.find_all('h3',{\"class\":\"gs_rt\"})[0].text.split('[CITATION][C] ')[-1]\n",
    "    except:\n",
    "        tc=''\n",
    "\n",
    "    gsr['title']=tc.strip().split('[HTML][HTML] ')[-1].split(\n",
    "                                  '[PDF][PDF] '  )[-1]\n",
    "    \n",
    "    # Explore authors, google scholar profile, Journal and Year\n",
    "    gpa=None\n",
    "    try:\n",
    "        gpa=record.find_all('div',{\"class\":\"gs_a\"})[0]\n",
    "        gsr['ref']=gpa.text.strip()\n",
    "        gsr['authors']=gpa.text.split('-')[0].strip()\n",
    "        try:\n",
    "            jy=gpa.text.split('-')[1].strip()\n",
    "            gsr['Journal']=jy.split(',')[0]\n",
    "            try:\n",
    "                gsr['Year']=eval(jy.split(',')[1])\n",
    "            except:\n",
    "                gsr['Year']=-1\n",
    "        except:\n",
    "            gsr['Journal']=''\n",
    "    except:\n",
    "        gsr['authors']=''\n",
    "        gsr['ref']=''\n",
    "\n",
    "    #Abstract:\n",
    "    try:\n",
    "        gsr['abstract']=record.find_all('div',{'class':'gs_rs'})[0].text.replace('\\xa0…','')\n",
    "    except:\n",
    "        gsr['abstract']=''\n",
    "    # citations\n",
    "    if gpa:\n",
    "        lpr=gpa.find_all(\"a\",{ \"href\":re.compile(\"/citations\\?user=*\")   } )\n",
    "        prf={}\n",
    "        for pr in lpr:\n",
    "            prf[ pr.text ]=pr.attrs.get('href').split('?')[-1].split('&')[0].split('user=')[-1]\n",
    "        gsr['profiles']=prf\n",
    "    \n",
    "    time.sleep( random.randint(1,3)  ) # avoid robots\n",
    "    return gsr"
   ]
  }
 ],
 "metadata": {
  "kernelspec": {
   "display_name": "Python 3",
   "language": "python",
   "name": "python3"
  },
  "language_info": {
   "codemirror_mode": {
    "name": "ipython",
    "version": 3
   },
   "file_extension": ".py",
   "mimetype": "text/x-python",
   "name": "python",
   "nbconvert_exporter": "python",
   "pygments_lexer": "ipython3",
   "version": "3.4.2"
  }
 },
 "nbformat": 4,
 "nbformat_minor": 2
}
